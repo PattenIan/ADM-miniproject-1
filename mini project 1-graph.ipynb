{
 "cells": [
  {
   "cell_type": "code",
   "execution_count": 1,
   "metadata": {
    "slideshow": null
   },
   "outputs": [],
   "source": [
    "import seaborn as sns"
   ]
  },
  {
   "cell_type": "markdown",
   "metadata": {
    "slideshow": null
   },
   "source": [
    "# The New York Social Graph\n"
   ]
  },
  {
   "cell_type": "markdown",
   "metadata": {},
   "source": [
    "[New York Social Diary](https://www.newyorksocialdiary.com/) provides a\n",
    "fascinating lens onto New York's socially well-to-do.  The data forms a natural social graph for New York's social elite.  Take a look at this page of a recent [To Love Unconditionally](https://www.newyorksocialdiary.com/to-love-unconditionally/). \n",
    "\n",
    "You will notice the photos have carefully annotated captions labeling those that appear in the photos.  We can think of this as implicitly implying a social graph: there is a connection between two individuals if they appear in a picture together.\n",
    "\n",
    "For this project, we will assemble the social graph from photo captions for parties.  Using this graph, we can make guesses at the most popular socialites, the most influential people, and the most tightly coupled pairs.\n",
    "\n",
    "We will attack the project in three phases:\n",
    "1. Get a list of all the photo pages to be analyzed. \n",
    "2. Get all captions in each party, Parse all of the captions and extract guests' names.\n",
    "3. Assemble the graph, analyze the graph and answer the questions"
   ]
  },
  {
   "cell_type": "markdown",
   "metadata": {
    "slideshow": null
   },
   "source": [
    "## Phase One\n"
   ]
  },
  {
   "cell_type": "markdown",
   "metadata": {
    "slideshow": null
   },
   "source": [
    "The first step is to crawl the data.  We want photos from parties on or before December 1st, 2014.  Go to the [Party Pictures Archive](https://web.archive.org/web/20150913224145/http://www.newyorksocialdiary.com/party-pictures) to see a list of (party) pages.  We want to get the url for each party page, along with its date.\n",
    "\n",
    "Here are some packages that you may find useful.  You are welcome to use others, if you prefer."
   ]
  },
  {
   "cell_type": "code",
   "execution_count": 21,
   "metadata": {
    "slideshow": null
   },
   "outputs": [],
   "source": [
    "import requests\n",
    "import dill\n",
    "from bs4 import BeautifulSoup\n",
    "from datetime import datetime"
   ]
  },
  {
   "cell_type": "markdown",
   "metadata": {
    "slideshow": null
   },
   "source": [
    "We recommend using Python [Requests](http://docs.python-requests.org/en/master/) to download the HTML pages, and [BeautifulSoup](https://www.crummy.com/software/BeautifulSoup/) to process the HTML.  Let's start by getting the [first page](https://web.archive.org/web/20150913224145/http://www.newyorksocialdiary.com/party-pictures)."
   ]
  },
  {
   "cell_type": "code",
   "execution_count": 22,
   "metadata": {
    "slideshow": null
   },
   "outputs": [],
   "source": [
    "url = \"https://web.archive.org/web/20150913224145/http://www.newyorksocialdiary.com/party-pictures\"\n",
    "page = requests.get(url) # Use requests.get to download the page."
   ]
  },
  {
   "cell_type": "markdown",
   "metadata": {
    "slideshow": null
   },
   "source": [
    "Now, we process the text of the page with BeautifulSoup."
   ]
  },
  {
   "cell_type": "code",
   "execution_count": 23,
   "metadata": {},
   "outputs": [
    {
     "name": "stdout",
     "output_type": "stream",
     "text": [
      "No <div> found with the specified class.\n"
     ]
    }
   ],
   "source": [
    "# Step 1: Fetch the HTML content\n",
    "url = 'http://example.com'  # Replace with your target URL\n",
    "response = requests.get(url)\n",
    "html_content = response.text\n",
    "\n",
    "# Step 2: Parse the HTML content\n",
    "soup = BeautifulSoup(html_content, 'html.parser')\n",
    "\n",
    "# Step 3: Find the specific <div> (example using class)\n",
    "div = soup.find('div', class_='specific-class')  # Replace 'specific-class' with the actual class name\n",
    "\n",
    "# Step 4: Extract the link from the <div>\n",
    "if div:\n",
    "    link = div.find('a')  # Find the first <a> tag within the <div>\n",
    "    if link and 'href' in link.attrs:\n",
    "        href = link['href']\n",
    "        print('Link:', href)\n",
    "    else:\n",
    "        print('No link found in the specified <div>.')\n",
    "else:\n",
    "    print('No <div> found with the specified class.')\n"
   ]
  },
  {
   "cell_type": "code",
   "execution_count": 24,
   "metadata": {
    "slideshow": null
   },
   "outputs": [],
   "source": [
    "soup = BeautifulSoup(page.text, \"lxml\")\n"
   ]
  },
  {
   "cell_type": "markdown",
   "metadata": {
    "slideshow": null
   },
   "source": [
    "This page has links to 50 party pages. Look at the structure of the page and determine how to isolate those links.  Your browser's developer tools (usually `Cmd`-`Option`-`I` on Mac, `Ctrl`-`Shift`-`I` on others) offer helpful tools to explore the structure of the HTML page.\n",
    "\n",
    "Once you have found a pattern, use BeautifulSoup's [select](https://www.crummy.com/software/BeautifulSoup/bs4/doc/#css-selectors) or [find_all](https://www.crummy.com/software/BeautifulSoup/bs4/doc/#find) methods to get those elements."
   ]
  },
  {
   "cell_type": "code",
   "execution_count": 25,
   "metadata": {
    "slideshow": null
   },
   "outputs": [
    {
     "name": "stdout",
     "output_type": "stream",
     "text": [
      "[('/web/20150918040703/http://www.newyorksocialdiary.com/party-pictures/2015/bunny-hop-the-boys-club-old-bags-and-more', (2015, 3, 13)), ('/web/20150918040703/http://www.newyorksocialdiary.com/party-pictures/2015/sab-the-jewish-museum-roundabout-theatre-and-faces', (2015, 3, 11)), ('/web/20150918040703/http://www.newyorksocialdiary.com/party-pictures/2015/adaa-art-show-bronx-museum-the-china-arts-foundation-international-and-the-palm', (2015, 3, 5)), ('/web/20150918040703/http://www.newyorksocialdiary.com/party-pictures/2015/the-60th-anniversary-of-the-viennese-opera-ball-and-mcnys-directors-council', (2015, 3, 4)), ('/web/20150918040703/http://www.newyorksocialdiary.com/party-pictures/2015/the-new-york-philharmonic-the-new-york-botanical-garden-longhouse-reserve-and', (2015, 3, 2)), ('/web/20150918040703/http://www.newyorksocialdiary.com/party-pictures/2015/mission-accomplished', (2015, 2, 26)), ('/web/20150918040703/http://www.newyorksocialdiary.com/party-pictures/2015/philanthropic-endeavors', (2015, 2, 25)), ('/web/20150918040703/http://www.newyorksocialdiary.com/party-pictures/2015/dining-with-the-divas', (2015, 2, 23)), ('/web/20150918040703/http://www.newyorksocialdiary.com/party-pictures/2015/fielding-dreams', (2015, 2, 18)), ('/web/20150918040703/http://www.newyorksocialdiary.com/party-pictures/2015/generosity-leadership', (2015, 2, 11)), ('/web/20150918040703/http://www.newyorksocialdiary.com/party-pictures/2015/young-new-yorkers', (2015, 2, 9)), ('/web/20150918040703/http://www.newyorksocialdiary.com/party-pictures/2015/preservation-and-care', (2015, 2, 6)), ('/web/20150918040703/http://www.newyorksocialdiary.com/party-pictures/2015/young-collectors-and-benefactors', (2015, 2, 5)), ('/web/20150918040703/http://www.newyorksocialdiary.com/party-pictures/2015/a-public-service', (2015, 2, 2)), ('/web/20150918040703/http://www.newyorksocialdiary.com/party-pictures/2015/adventures-to-and-from', (2015, 1, 30)), ('/web/20150918040703/http://www.newyorksocialdiary.com/party-pictures/2015/was-and-abt', (2015, 1, 26)), ('/web/20150918040703/http://www.newyorksocialdiary.com/party-pictures/2015/starlets-designers-and-art-lovers', (2015, 1, 23)), ('/web/20150918040703/http://www.newyorksocialdiary.com/party-pictures/2015/great-expectations', (2015, 1, 21)), ('/web/20150918040703/http://www.newyorksocialdiary.com/party-pictures/2015/new-york-to-palm-beach-and-back-again', (2015, 1, 14)), ('/web/20150918040703/http://www.newyorksocialdiary.com/party-pictures/2015/from-the-garden-conservatory-to-the-beach-bash', (2015, 1, 12)), ('/web/20150918040703/http://www.newyorksocialdiary.com/party-pictures/2015/expertise-and-excellence', (2015, 1, 2)), ('/web/20150918040703/http://www.newyorksocialdiary.com/party-pictures/2014/with-champagne-a-filling', (2014, 12, 29)), ('/web/20150918040703/http://www.newyorksocialdiary.com/party-pictures/2014/high-above-their-heads', (2014, 12, 22)), ('/web/20150918040703/http://www.newyorksocialdiary.com/party-pictures/2014/holiday-cheer', (2014, 12, 19)), ('/web/20150918040703/http://www.newyorksocialdiary.com/party-pictures/2014/winter-wonderland-ball', (2014, 12, 18)), ('/web/20150918040703/http://www.newyorksocialdiary.com/party-pictures/2014/holiday-dinners-and-doers', (2014, 12, 17)), ('/web/20150918040703/http://www.newyorksocialdiary.com/party-pictures/2014/family-fundraising-events', (2014, 12, 15)), ('/web/20150918040703/http://www.newyorksocialdiary.com/party-pictures/2014/family-gatherings', (2014, 12, 11)), ('/web/20150918040703/http://www.newyorksocialdiary.com/party-pictures/2014/expert-eye', (2014, 12, 8)), ('/web/20150918040703/http://www.newyorksocialdiary.com/party-pictures/2014/every-day-is-a-holiday', (2014, 12, 3)), ('/web/20150918040703/http://www.newyorksocialdiary.com/party-pictures/2014/the-thanksgiving-day-parade-from-the-ground-up', (2014, 12, 1)), ('/web/20150918040703/http://www.newyorksocialdiary.com/party-pictures/2014/gala-guests', (2014, 11, 24)), ('/web/20150918040703/http://www.newyorksocialdiary.com/party-pictures/2014/equal-justice', (2014, 11, 20)), ('/web/20150918040703/http://www.newyorksocialdiary.com/party-pictures/2014/celebrating-the-treasures', (2014, 11, 18)), ('/web/20150918040703/http://www.newyorksocialdiary.com/party-pictures/2014/associates-and-friends', (2014, 11, 17)), ('/web/20150918040703/http://www.newyorksocialdiary.com/party-pictures/2014/michaels-25th', (2014, 11, 13)), ('/web/20150918040703/http://www.newyorksocialdiary.com/party-pictures/2014/new-york-lifelines', (2014, 11, 12)), ('/web/20150918040703/http://www.newyorksocialdiary.com/party-pictures/2014/legends-and-leaders', (2014, 11, 10)), ('/web/20150918040703/http://www.newyorksocialdiary.com/party-pictures/2014/fall-fun', (2014, 11, 6)), ('/web/20150918040703/http://www.newyorksocialdiary.com/party-pictures/2014/park-avenue-armorys-2014-gala-masquerade', (2014, 11, 5)), ('/web/20150918040703/http://www.newyorksocialdiary.com/party-pictures/2014/old-friends-new-friends', (2014, 11, 3)), ('/web/20150918040703/http://www.newyorksocialdiary.com/party-pictures/2014/new-york-new-york-a-helluva-town', (2014, 10, 30)), ('/web/20150918040703/http://www.newyorksocialdiary.com/party-pictures/2014/patrons-sponsors-supporters-friends-alumni-and-members', (2014, 10, 27)), ('/web/20150918040703/http://www.newyorksocialdiary.com/party-pictures/2014/the-fricks-annual-autumn-dinner-and-casita-marias-2014-fiesta', (2014, 10, 23)), ('/web/20150918040703/http://www.newyorksocialdiary.com/party-pictures/2014/new-york-and-beyond', (2014, 10, 22)), ('/web/20150918040703/http://www.newyorksocialdiary.com/party-pictures/2014/compassion-choices', (2014, 10, 17)), ('/web/20150918040703/http://www.newyorksocialdiary.com/party-pictures/2014/public-celebrations', (2014, 10, 13)), ('/web/20150918040703/http://www.newyorksocialdiary.com/party-pictures/2014/junior-councils-taking-the-lead', (2014, 10, 8)), ('/web/20150918040703/http://www.newyorksocialdiary.com/party-pictures/2014/luncheons-lectures-and-masked-balls', (2014, 10, 6)), ('/web/20150918040703/http://www.newyorksocialdiary.com/party-pictures/2014/opening-numbers', (2014, 10, 2))]\n"
     ]
    }
   ],
   "source": [
    "import time\n",
    "import re\n",
    "\n",
    "def filter_by_date(links, cutoff=datetime(2014, 12, 1)):\n",
    "    filtered = []\n",
    "    print(len(links))\n",
    "    for link in links:\n",
    "        url, date = link\n",
    "        \n",
    "        # Check if the URL and date exist and date is valid\n",
    "        if date and url and (date[0] < cutoff.year or (date[0] <= cutoff.year and date[1] < cutoff.month) or (date[0] == cutoff.year and date[1] == cutoff.month and date[2] == cutoff.day)):\n",
    "            filtered.append(link)\n",
    "    \n",
    "    return filtered\n",
    "\n",
    "def convert_date(date_str):\n",
    "    try:\n",
    "        input_format = \"%A, %B %d, %Y\"\n",
    "        date_obj = datetime.strptime(date_str, input_format)\n",
    "        return date_obj.year, date_obj.month, date_obj.day\n",
    "    except Exception as e:\n",
    "        print(f\"Error converting date '{date_str}': {e}\")\n",
    "        return None\n",
    "    \n",
    "def get_link_date(link):\n",
    "    try:\n",
    "        # Extract the URL from the title field\n",
    "        titleField = link.find(class_=\"field-content\")\n",
    "        url = titleField.find(\"a\")['href'] if titleField and titleField.find(\"a\") else None\n",
    "        pattern = r'^.*?(http)'\n",
    "        cleaned_url = re.sub(pattern, r'\\1', url) if url else None\n",
    "        \n",
    "        # Extract the date from the created field\n",
    "        dateField = link.find(class_=\"views-field-created\")\n",
    "        date_str = dateField.find(class_=\"field-content\").text if dateField else None\n",
    "        \n",
    "        # Convert the date string to a tuple (year, month, day)\n",
    "        date = convert_date(date_str) if date_str else None\n",
    "        \n",
    "        return (url, date)\n",
    "    except Exception as e:\n",
    "        print(f\"Error processing link: {e}\")\n",
    "        return (None, None)\n",
    "def get_page_links(page_link):\n",
    "    try:\n",
    "        page = requests.get(page_link)\n",
    "        soup = BeautifulSoup(page.text, \"lxml\")\n",
    "        \n",
    "        # Find all rows containing links and dates\n",
    "        rows = soup.find_all(class_=\"views-row\")\n",
    "        \n",
    "        # Store the (url, date) tuples\n",
    "        links_and_dates = [get_link_date(row) for row in rows]\n",
    "        \n",
    "        return links_and_dates\n",
    "    except Exception as e:\n",
    "        print(f\"Error fetching page {page_link}: {e}\")\n",
    "        return []\n",
    "    \n",
    "\n",
    "links = get_page_links(\"https://web.archive.org/web/20150918040703/http://www.newyorksocialdiary.com/party-pictures?page=1\")\n",
    "print(links)"
   ]
  },
  {
   "cell_type": "markdown",
   "metadata": {
    "slideshow": null
   },
   "source": [
    "There should be 50 per page."
   ]
  },
  {
   "cell_type": "code",
   "execution_count": 26,
   "metadata": {
    "slideshow": null
   },
   "outputs": [
    {
     "data": {
      "text/plain": [
       "True"
      ]
     },
     "execution_count": 26,
     "metadata": {},
     "output_type": "execute_result"
    }
   ],
   "source": [
    "len(links) == 50"
   ]
  },
  {
   "cell_type": "markdown",
   "metadata": {
    "slideshow": null
   },
   "source": [
    "Let's take a look at that first link.  Figure out how to extract the URL of the link, as well as the date.  You probably want to use `datetime.strptime`.  See the [format codes for dates](https://docs.python.org/3/library/datetime.html#strftime-and-strptime-behavior) for reference."
   ]
  },
  {
   "cell_type": "code",
   "execution_count": null,
   "metadata": {},
   "outputs": [],
   "source": [
    "\"/web/20150913224145/http://www.newyorksocialdiary.com/party-pictures/2015/grand-finale-of-the-hampton-classic-horse-show\">Grand Finale of the Hampton Classic Horse Show</a>"
   ]
  },
  {
   "cell_type": "code",
   "execution_count": 27,
   "metadata": {
    "slideshow": null
   },
   "outputs": [
    {
     "data": {
      "text/plain": [
       "('/web/20150918040703/http://www.newyorksocialdiary.com/party-pictures/2015/bunny-hop-the-boys-club-old-bags-and-more',\n",
       " (2015, 3, 13))"
      ]
     },
     "execution_count": 27,
     "metadata": {},
     "output_type": "execute_result"
    }
   ],
   "source": [
    "link = links[0]\n",
    "# Check that the title and date match what you see visually.\n",
    "link"
   ]
  },
  {
   "cell_type": "markdown",
   "metadata": {
    "slideshow": null
   },
   "source": [
    "For purposes of code reuse, let's put that logic into a function.  It should take the link element and return the URL and date parsed from it."
   ]
  },
  {
   "cell_type": "code",
   "execution_count": null,
   "metadata": {
    "slideshow": null
   },
   "outputs": [],
   "source": [
    "def get_link_date(el):\n",
    "    ...\n",
    "    return url, date"
   ]
  },
  {
   "cell_type": "markdown",
   "metadata": {
    "slideshow": null
   },
   "source": [
    "You may want to check that it works as you expected.\n",
    "\n",
    "Once that's working, let's write another function to parse all of the links on a page.  Thinking ahead, we can make it take a Requests [Response](https://requests.readthedocs.io/en/master/api/#requests.Response) object and do the BeautifulSoup parsing within it."
   ]
  },
  {
   "cell_type": "code",
   "execution_count": 28,
   "metadata": {
    "slideshow": null
   },
   "outputs": [],
   "source": [
    "def gather_all_links():\n",
    "    page_links = []\n",
    "    all_links = []\n",
    "    filtered_links = []\n",
    "    \n",
    "    # Generate the page URLs\n",
    "    for page in range(1, 26):\n",
    "        page_link = f\"https://web.archive.org/web/20150918040703/http://www.newyorksocialdiary.com/party-pictures?page={page}\"\n",
    "        page_links.append(page_link)\n",
    "    \n",
    "    # Fetch links from each page\n",
    "    for pl in range(0, len(page_links)):\n",
    "        sleep_timer = 10\n",
    "        page_links_data = get_page_links(page_links[pl])\n",
    "        all_links.extend(page_links_data)\n",
    "        \n",
    "        time.sleep(sleep_timer)\n",
    "        \n",
    "        print(f\"Page {pl + 1} done\")\n",
    "    \n",
    "    # Filter links by date\n",
    "    filtered_links = filter_by_date(all_links)\n",
    "    \n",
    "    # Save the filtered links\n",
    "    dill.dump(filtered_links, open('nysd-links.pkd', 'wb'))\n",
    "    print(f\"Filtered links: {filtered_links}\")\n",
    "    print(\"Amount of links: \", len(filtered_links))"
   ]
  },
  {
   "cell_type": "markdown",
   "metadata": {
    "slideshow": null
   },
   "source": [
    "If we run this on the previous response, we should get 50 pairs."
   ]
  },
  {
   "cell_type": "markdown",
   "metadata": {
    "slideshow": null
   },
   "source": [
    "But we only want parties with dates on or before the first of December, 2014.  Let's write a function to filter our list of dates to those at or before a cutoff.  Using a keyword argument, we can put in a default cutoff, but allow us to test with others."
   ]
  },
  {
   "cell_type": "code",
   "execution_count": null,
   "metadata": {
    "slideshow": null
   },
   "outputs": [],
   "source": [
    "def filter_by_date(links, cutoff=datetime(2014, 12, 1)):\n",
    "    # Return only the elements with date <= cutoff"
   ]
  },
  {
   "cell_type": "markdown",
   "metadata": {
    "slideshow": null
   },
   "source": [
    "With the default cutoff, there should be no valid parties on the first page.  Adjust the cutoff date to check that it is actually working."
   ]
  },
  {
   "cell_type": "code",
   "execution_count": null,
   "metadata": {
    "slideshow": null
   },
   "outputs": [],
   "source": [
    "# Double check the dates are being extracted correctly\n",
    "len(filter_by_date(get_links(page))) == 0"
   ]
  },
  {
   "cell_type": "markdown",
   "metadata": {
    "slideshow": null
   },
   "source": [
    "Now we should be ready to get all of the party URLs.  Click through a few of the index pages to determine how the URL changes.  Figure out a strategy to visit all of them.\n",
    "\n",
    "HTTP requests are generally IO-bound.  This means that most of the time is spent waiting for the remote server to respond.  If you use `requests` directly, you can only wait on one response at a time.  [requests-futures](https://github.com/ross/requests-futures) lets you wait for multiple requests at a time.  You may wish to use this to speed up the downloading process."
   ]
  },
  {
   "cell_type": "code",
   "execution_count": null,
   "metadata": {
    "slideshow": null
   },
   "outputs": [],
   "source": [
    "from requests_futures.sessions import FuturesSession\n",
    "\n",
    "link_list = []\n",
    "# You can use link_list.extend(others) to add the elements of others\n",
    "# to link_list."
   ]
  },
  {
   "cell_type": "markdown",
   "metadata": {
    "slideshow": null
   },
   "source": [
    "In the end, you should have 1193 parties."
   ]
  },
  {
   "cell_type": "code",
   "execution_count": null,
   "metadata": {
    "slideshow": null
   },
   "outputs": [],
   "source": [
    "# Make sure you are using the same /web/stringofdigits/... for each page\n",
    "# This is to prevent the archive from accessing later copies of the same page\n",
    "# If you are off by a just a few, that can be the archive misbehaving\n",
    "len(link_list) == 1193"
   ]
  },
  {
   "cell_type": "markdown",
   "metadata": {
    "slideshow": null
   },
   "source": [
    "In case we need to restart the notebook, we should save this information to a file.  There are many ways you could do this; here's one using `dill`."
   ]
  },
  {
   "cell_type": "code",
   "execution_count": null,
   "metadata": {
    "slideshow": null
   },
   "outputs": [],
   "source": [
    "dill.dump(link_list, open('nysd-links.pkd', 'wb'))"
   ]
  },
  {
   "cell_type": "markdown",
   "metadata": {
    "slideshow": null
   },
   "source": [
    "To restore the list, we can just load it from the file.  When the notebook is restarted, you can skip the code above and just run this command."
   ]
  },
  {
   "cell_type": "code",
   "execution_count": 5,
   "metadata": {
    "slideshow": null
   },
   "outputs": [
    {
     "data": {
      "text/plain": [
       "1193"
      ]
     },
     "execution_count": 5,
     "metadata": {},
     "output_type": "execute_result"
    }
   ],
   "source": [
    "import dill\n",
    "link_list = dill.load(open('nysd-links.pkd', 'rb'))\n",
    "len(link_list)"
   ]
  },
  {
   "cell_type": "markdown",
   "metadata": {
    "slideshow": null
   },
   "source": [
    "### Question 1: In which month did most of the parties occur? (10 p)\n",
    "The month with the most parties is May\n",
    "### Question 2: What is the overall trend of parties from 2007 to 2014? (10 p)\n",
    "Use visualizations to answer the two questions above. Ensure that you interpret your plots thoroughly.\n",
    "\n",
    "From looking at the plot, we can see the pattern that the majority of parties occure in May and June, then # of parties starts to drop from july to August and then again we see a trend that a lot of parties occur during October and November, which is then followed by a big drop of parties in January and Feburary. That seems to be the overall year trend of parties. It also seems like after September 2010 the amount of parties were on a decline."
   ]
  },
  {
   "cell_type": "code",
   "execution_count": 25,
   "metadata": {},
   "outputs": [],
   "source": [
    "def month_with_most_parties(links) -> str:\n",
    "    months = [0] * 12\n",
    "    for link in links:\n",
    "        months[link[1][1] - 1] += 1\n",
    "\n",
    "    month_names = ['Jan', 'Feb', 'Mar', 'Apr', 'May', 'Jun', 'Jul', 'Aug', 'Sep', 'Oct', 'Nov', 'Dec']\n",
    "\n",
    "    return months, month_names"
   ]
  },
  {
   "cell_type": "code",
   "execution_count": 26,
   "metadata": {},
   "outputs": [
    {
     "name": "stdout",
     "output_type": "stream",
     "text": [
      "[60, 75, 115, 109, 124, 111, 110, 93, 99, 111, 111, 75]\n"
     ]
    },
    {
     "data": {
      "image/png": "[encoded data removed]",
      "text/plain": [
       "<Figure size 1000x600 with 1 Axes>"
      ]
     },
     "metadata": {},
     "output_type": "display_data"
    }
   ],
   "source": [
    "import matplotlib.pyplot as plt\n",
    "months, month_names = month_with_most_parties(link_list)\n",
    "\n",
    "print(months)\n",
    "plt.figure(figsize=(10, 6))\n",
    "plt.bar(month_names, months, color='skyblue')\n",
    "plt.xlabel('Months')\n",
    "plt.ylabel('Number of Parties')\n",
    "plt.title('Number of Parties per Month')\n",
    "plt.xticks(rotation=45)\n",
    "plt.grid(axis='y')\n",
    "plt.tight_layout()\n",
    "\n",
    "plt.show()"
   ]
  },
  {
   "cell_type": "code",
   "execution_count": 34,
   "metadata": {},
   "outputs": [],
   "source": [
    "import pandas as pd\n",
    "from datetime import datetime\n",
    "from collections import Counter\n",
    "def get_trend(links):\n",
    "    dates = [link[1] for link in links]\n",
    "    dates_as_datetime = [datetime(year, month, day) for year, month, day in dates]\n",
    "\n",
    "    dates_by_month = [date.strftime('%Y-%m') for date in dates_as_datetime]\n",
    "    occurrences = Counter(dates_by_month)\n",
    "\n",
    "    # Create a DataFrame to fill in missing months from 2007 to 2014\n",
    "    all_months = pd.date_range(start='2007-02', end='2014-12', freq='M').strftime('%Y-%m')\n",
    "    df = pd.DataFrame(all_months, columns=['YearMonth'])\n",
    "    df['Occurrences'] = df['YearMonth'].map(occurrences).fillna(0)\n",
    "\n",
    "    # Plotting the data\n",
    "    plt.figure(figsize=(10, 6))\n",
    "    plt.plot(df['YearMonth'], df['Occurrences'], marker='o', color='b', label='Occurrences per Month')\n",
    "    plt.xticks(rotation=90)\n",
    "    plt.xlabel('Month')\n",
    "    plt.ylabel('Occurrences')\n",
    "    plt.title('Occurrences per Month from 2007 to 2014')\n",
    "    plt.grid(True)\n",
    "    plt.tight_layout()\n",
    "\n",
    "    # Display the plots\n",
    "    plt.show()\n",
    "    \n",
    "    # Display half the plot for clarity\n",
    "    all_months = pd.date_range(start='2007-02', end='2011-01', freq='M').strftime('%Y-%m')\n",
    "    df = pd.DataFrame(all_months, columns=['YearMonth'])\n",
    "    df['Occurrences'] = df['YearMonth'].map(occurrences).fillna(0)\n",
    "\n",
    "    # Plotting the data\n",
    "    plt.figure(figsize=(10, 6))\n",
    "    plt.plot(df['YearMonth'], df['Occurrences'], marker='o', color='b', label='Occurrences per Month')\n",
    "    plt.xticks(rotation=90)\n",
    "    plt.xlabel('Month')\n",
    "    plt.ylabel('Occurrences')\n",
    "    plt.title('Occurrences per Month from 2007 to 2010')\n",
    "    plt.grid(True)\n",
    "    plt.tight_layout()\n",
    "    plt.show()\n",
    "    # Display the other half aswell\n",
    "    all_months = pd.date_range(start='2011-01', end='2014-12', freq='M').strftime('%Y-%m')\n",
    "    df = pd.DataFrame(all_months, columns=['YearMonth'])\n",
    "    df['Occurrences'] = df['YearMonth'].map(occurrences).fillna(0)\n",
    "\n",
    "    # Plotting the data\n",
    "    plt.figure(figsize=(10, 6))\n",
    "    plt.plot(df['YearMonth'], df['Occurrences'], marker='o', color='b', label='Occurrences per Month')\n",
    "    plt.xticks(rotation=90)\n",
    "    plt.xlabel('Month')\n",
    "    plt.ylabel('Occurrences')\n",
    "    plt.title('Occurrences per Month from 2011 to 2014')\n",
    "    plt.grid(True)\n",
    "    plt.tight_layout()\n",
    "    plt.show()"
   ]
  },
  {
   "cell_type": "code",
   "execution_count": 35,
   "metadata": {},
   "outputs": [
    {
     "name": "stderr",
     "output_type": "stream",
     "text": [
      "C:\\Users\\patri\\AppData\\Local\\Temp\\ipykernel_2892\\12833652.py:12: FutureWarning: 'M' is deprecated and will be removed in a future version, please use 'ME' instead.\n",
      "  all_months = pd.date_range(start='2007-02', end='2014-12', freq='M').strftime('%Y-%m')\n"
     ]
    },
    {
     "data": {
      "image/png": "[encoded data removed]",
      "text/plain": [
       "<Figure size 1000x600 with 1 Axes>"
      ]
     },
     "metadata": {},
     "output_type": "display_data"
    },
    {
     "name": "stderr",
     "output_type": "stream",
     "text": [
      "C:\\Users\\patri\\AppData\\Local\\Temp\\ipykernel_2892\\12833652.py:30: FutureWarning: 'M' is deprecated and will be removed in a future version, please use 'ME' instead.\n",
      "  all_months = pd.date_range(start='2007-02', end='2011-01', freq='M').strftime('%Y-%m')\n"
     ]
    },
    {
     "data": {
      "image/png": "[encoded data removed]",
      "text/plain": [
       "<Figure size 1000x600 with 1 Axes>"
      ]
     },
     "metadata": {},
     "output_type": "display_data"
    },
    {
     "name": "stderr",
     "output_type": "stream",
     "text": [
      "C:\\Users\\patri\\AppData\\Local\\Temp\\ipykernel_2892\\12833652.py:45: FutureWarning: 'M' is deprecated and will be removed in a future version, please use 'ME' instead.\n",
      "  all_months = pd.date_range(start='2011-01', end='2014-12', freq='M').strftime('%Y-%m')\n"
     ]
    },
    {
     "data": {
      "image/png": "[encoded data removed]",
      "text/plain": [
       "<Figure size 1000x600 with 1 Axes>"
      ]
     },
     "metadata": {},
     "output_type": "display_data"
    }
   ],
   "source": [
    "get_trend(link_list)"
   ]
  },
  {
   "cell_type": "markdown",
   "metadata": {},
   "source": [
    "We also split the plot in half so it is easier to tell the plot points apart but the full one is included to see the trend."
   ]
  },
  {
   "cell_type": "markdown",
   "metadata": {
    "slideshow": null
   },
   "source": [
    "## Phase Two\n"
   ]
  },
  {
   "cell_type": "markdown",
   "metadata": {
    "slideshow": null
   },
   "source": [
    "In this phase, we concentrate on getting the names out of captions for a given page.  We'll start with [the benefit cocktails and dinner](https://web.archive.org/web/20150913224145/http://www.newyorksocialdiary.com/party-pictures/2015/celebrating-the-neighborhood) for [Lenox Hill Neighborhood House](http://www.lenoxhill.org/), a neighborhood organization for the East Side.\n",
    "\n",
    "Take a look at that page.  Note that some of the text on the page is captions, but others are descriptions of the event.  Determine how to select only the captions."
   ]
  },
  {
   "cell_type": "code",
   "execution_count": null,
   "metadata": {
    "slideshow": null
   },
   "outputs": [],
   "source": [
    "captions = ..."
   ]
  },
  {
   "cell_type": "markdown",
   "metadata": {
    "slideshow": null
   },
   "source": [
    "By our count, there are about 110.  But if you're off by a couple, you're probably okay."
   ]
  },
  {
   "cell_type": "code",
   "execution_count": null,
   "metadata": {
    "slideshow": null
   },
   "outputs": [],
   "source": [
    "# These are for the specific party referenced in the text\n",
    "abs(len(captions) - 110) < 5"
   ]
  },
  {
   "cell_type": "markdown",
   "metadata": {
    "slideshow": null
   },
   "source": [
    "Let's encapsulate this in a function.  As with the links pages, we want to avoid downloading a given page the next time we need to run the notebook.  While we could save the files by hand, as we did before, a checkpoint library like [ediblepickle](https://pypi.python.org/pypi/ediblepickle/1.1.3) can handle this for you.  (Note, though, that you may not want to enable this until you are sure that your function is working.)\n",
    "\n",
    "You should also keep in mind that HTTP requests fail occasionally, for transient reasons.  You should plan how to detect and react to these failures.   The [retrying module](https://pypi.python.org/pypi/retrying) is one way to deal with this."
   ]
  },
  {
   "cell_type": "code",
   "execution_count": null,
   "metadata": {
    "slideshow": null
   },
   "outputs": [],
   "source": [
    "def get_captions(path):\n",
    "    ..."
   ]
  },
  {
   "cell_type": "markdown",
   "metadata": {
    "slideshow": null
   },
   "source": [
    "This should get the same captions as before."
   ]
  },
  {
   "cell_type": "code",
   "execution_count": null,
   "metadata": {},
   "outputs": [],
   "source": [
    "def get_all_captions():\n",
    "    link_list = dill.load(open('nysd-links.pkd', 'rb'))\n",
    "    cutoff = datetime(2007, 9, 4)\n",
    "\n",
    "    session = requests.Session()\n",
    "\n",
    "    retry_strategy = Retry(\n",
    "        total=5,                # Retry up to 5 times\n",
    "        status_forcelist=[429, 500, 502, 503, 504],  # Retry on these HTTP errors\n",
    "        allowed_methods=[\"GET\"],                    # Retry only for GET requests\n",
    "        backoff_factor=1,        # Wait 1s, 2s, 4s, etc., between retries\n",
    "    )\n",
    "\n",
    "    adapter = HTTPAdapter(max_retries=retry_strategy)\n",
    "    session.mount(\"https://\", adapter)\n",
    "    session.mount(\"http://\", adapter)\n",
    "\n",
    "    failed_link_list = []\n",
    "\n",
    "    with open('All_Captions5.txt', 'a', encoding='utf-8') as f:\n",
    "        for link, date in link_list:\n",
    "            print(date)\n",
    "            print(f\"Processing: {link}\")\n",
    "            success = False\n",
    "            retries = 3  # Number of retries\n",
    "            web_link = \"https://web.archive.org/web/20150913224145/\" + link\n",
    "            for attempt in range(retries):\n",
    "                try:\n",
    "                    if (date[0] < cutoff.year or \n",
    "                    (date[0] <= cutoff.year and date[1] < cutoff.month) or \n",
    "                    (date[0] == cutoff.year and date[1] == cutoff.month and date[2] == cutoff.day)):\n",
    "                        captions = get_captions(web_link, session, False)\n",
    "                    else:\n",
    "                        captions = get_captions(web_link, session, True)\n",
    "                    print(f\"Captions fetched successfully\")\n",
    "                    success = True\n",
    "                    break  # Exit retry loop on success\n",
    "\n",
    "                except Exception as e:\n",
    "                    print(f\"Error fetching captions from {web_link} on attempt {attempt+1}\")\n",
    "                    time.sleep(5 * attempt)  # Wait 5, 10, 15 seconds before retrying\n",
    "\n",
    "            if not success:\n",
    "                failed_link_list.append((web_link, date))\n",
    "                print(f\"Failed: {web_link}\")\n",
    "\n",
    "            else:\n",
    "                clean_cap = clean_captions(captions)\n",
    "                for caption in clean_cap:\n",
    "                    caption = \"[\" + str(caption) + \"]\"  # Add square brackets around the caption\n",
    "                    f.write(caption + \"\\n\")  # Write each caption on a new line with brackets\n",
    "\n",
    "    print(\"Failed links:\", failed_link_list)"
   ]
  },
  {
   "cell_type": "code",
   "execution_count": null,
   "metadata": {
    "slideshow": null
   },
   "outputs": [],
   "source": [
    "# This cell is expecting get_captions to return a list of the captions themselves\n",
    "# Other routes to a solution might need to adjust this cell a bit\n",
    "captions == get_captions(\"/web/20150913224145/http://www.newyorksocialdiary.com/party-pictures/2015/celebrating-the-neighborhood\")"
   ]
  },
  {
   "cell_type": "markdown",
   "metadata": {
    "slideshow": null
   },
   "source": [
    "Now that we have some sample captions, let's start parsing names out of those captions.  There are many ways of going about this, and we leave the details up to you.  Some issues to consider:\n",
    "\n",
    "  1. Some captions are not useful: they contain long narrative texts that explain the event.  Try to find some heuristic rules to separate captions that are a list of names from those that are not.  A few heuristics include:\n",
    "    - look for sentences (which have verbs) and as opposed to lists of nouns. For example, [`nltk` does part of speech tagging](http://www.nltk.org/book/ch05.html) but it is a little slow. There may also be heuristics that accomplish the same thing.\n",
    "    - Similarly, spaCy's [entity recognition](https://spacy.io/docs/usage/entity-recognition) could be useful here.\n",
    "    - Look for commonly repeated threads (e.g. you might end up picking up the photo credits or people such as \"a friend\").\n",
    "    - Long captions are often not lists of people.  The cutoff is subjective, but for grading purposes, *set that cutoff at 250 characters*.\n",
    "  2. You will want to separate the captions based on various forms of punctuation.  Try using `re.split`, which is more sophisticated than `string.split`. **Note**: Use regex exclusively for name parsing.\n",
    "  3. This site is pretty formal and likes to say things like \"Mayor Michael Bloomberg\" after his election but \"Michael Bloomberg\" before his election.  Can you find other titles that are being used?  They should probably be filtered out because they ultimately refer to the same person: \"Michael Bloomberg.\"\n",
    "  4. There is a special case you might find where couples are written as eg. \"John and Mary Smith\". You will need to write some extra logic to make sure this properly parses to two names: \"John Smith\" and \"Mary Smith\".\n",
    "  5. When parsing names from captions, it can help to look at your output frequently and address the problems that you see coming up, iterating until you have a list that looks reasonable. Because we can only asymptotically approach perfect identification and entity matching, we have to stop somewhere.\n",
    "  \n",
    "**Questions worth considering:**\n",
    "  1. Who is Patrick McMullan and should he be included in the results? How would you address this?\n",
    "  2. What else could you do to improve the quality of the graph's information?"
   ]
  },
  {
   "cell_type": "code",
   "execution_count": null,
   "metadata": {
    "slideshow": null
   },
   "outputs": [],
   "source": []
  },
  {
   "cell_type": "markdown",
   "metadata": {
    "slideshow": null
   },
   "source": [
    "Once you feel that your algorithm is working well on these captions, parse all of the captions and extract all the names mentioned.  "
   ]
  },
  {
   "cell_type": "markdown",
   "metadata": {
    "slideshow": null
   },
   "source": [
    "Now, run this sort of test on a few other pages.  You will probably find that other pages have a slightly different HTML structure, as well as new captions that trip up your caption parser.  But don't worry if the parser isn't perfect -- just try to get the easy cases."
   ]
  },
  {
   "cell_type": "markdown",
   "metadata": {
    "slideshow": null
   },
   "source": [
    "Once you are satisfied that your caption scraper and parser are working, run this for all of the pages.  If you haven't implemented some caching of the captions, you probably want to do this first."
   ]
  },
  {
   "cell_type": "markdown",
   "metadata": {},
   "source": [
    "In this section, we defined the main() function to coordinate the data processing workflow. Here's what we did:\n",
    "\n",
    "Processed Shared Last Names:\n",
    "Called regex_patterns.process_shared_last_names(\"Removed_empty_brackets.txt\", \"Short_caption_couple_names.txt\").\n",
    "This function identifies and processes captions where couples share the same last name.\n",
    "The results are saved in \"Short_caption_couple_names.txt\".\n",
    "Removed Titles from Captions:\n",
    "Called regex_patterns.remove_titles(\"All_couples_together2.txt\", \"Removed_titles.txt\").\n",
    "This function removes titles like \"Mr.\", \"Mrs.\", etc., from the captions to clean the data.\n",
    "The cleaned data is saved in \"Removed_titles.txt\".\n",
    "Separated Potential Unrelated Captions:\n",
    "Called graph.separate_potential_unreleated_captions(\"../Removed_titles.txt\").\n",
    "This function analyzes the captions to separate any that might be unrelated or not pertinent to our analysis.\n",
    "The main() function orchestrates these steps, ensuring that our data is properly processed and ready for further use."
   ]
  },
  {
   "cell_type": "code",
   "execution_count": null,
   "metadata": {
    "slideshow": null
   },
   "outputs": [],
   "source": [
    "# Scraping all of the pages could take 10 minutes to an hour\n",
    "import datascraper\n",
    "import dill\n",
    "import regex_patterns\n",
    "import graph\n",
    "\n",
    "def main():\n",
    "    regex_patterns.process_shared_last_names(\"Removed_empty_brackets.txt\", \"Short_caption_couple_names.txt\")\n",
    "    regex_patterns.remove_titles(\"All_couples_together2.txt\", \"Removed_titles.txt\")\n",
    "\n",
    "\n",
    "    graph.separate_potential_unreleated_captions(\"../Removed_titles.txt\")\n",
    "\n",
    "\n",
    "if __name__ == \"__main__\":\n",
    "    main()"
   ]
  },
  {
   "cell_type": "markdown",
   "metadata": {},
   "source": [
    "## Phase 3: Graph Analysis"
   ]
  },
  {
   "cell_type": "markdown",
   "metadata": {
    "slideshow": null
   },
   "source": [
    "For the remaining analysis, we think of the problem in terms of a\n",
    "[network](http://en.wikipedia.org/wiki/Computer_network) or a\n",
    "[graph](https://en.wikipedia.org/wiki/Graph_%28discrete_mathematics%29).  Any time a pair of people appear in a photo together, that is considered a link.  It is an example of  an **undirected weighted graph**. We recommend using python's [`networkx`](https://networkx.github.io/) library."
   ]
  },
  {
   "cell_type": "code",
   "execution_count": null,
   "metadata": {
    "slideshow": null
   },
   "outputs": [],
   "source": [
    "import itertools  # itertools.combinations may be useful\n",
    "import networkx as nx"
   ]
  },
  {
   "cell_type": "markdown",
   "metadata": {
    "slideshow": null
   },
   "source": [
    "All in all, you should end up with over 100,000 captions and more than 110,000 names, connected in about 200,000 pairs."
   ]
  },
  {
   "cell_type": "code",
   "execution_count": 44,
   "metadata": {},
   "outputs": [],
   "source": [
    "import os\n",
    "import sys\n",
    "import time\n",
    "import itertools\n",
    "import pandas as pd\n",
    "import numpy as np\n",
    "import igraph as ig\n",
    "\n",
    "def get_full_filepath(filename):\n",
    "    \"\"\"\n",
    "    Returns the full file path of the given filename located in the same directory as this script.\n",
    "    \"\"\"\n",
    "    current_dir = os.path.dirname(os.path.abspath(filename))\n",
    "    filepath = os.path.join(current_dir, filename)\n",
    "    return filepath\n",
    "\n",
    "def load_captions(filename):\n",
    "    \"\"\"\n",
    "    Load the captions from a file and return as a list of lists of names.\n",
    "    Adjusted to handle the actual format of 'passed.txt'.\n",
    "    \"\"\"\n",
    "    filepath = get_full_filepath(filename)\n",
    "    captions = []\n",
    "    current_caption = []\n",
    "    with open(filepath, 'r', encoding='utf-8') as file:\n",
    "        for line in file:\n",
    "            line = line.strip()\n",
    "            if line == '':\n",
    "                if current_caption:\n",
    "                    captions.append(current_caption)\n",
    "                    current_caption = []\n",
    "            else:\n",
    "                current_caption.append(line)\n",
    "        # Add the last caption if any\n",
    "        if current_caption:\n",
    "            captions.append(current_caption)\n",
    "    return captions\n",
    "\n",
    "def build_igraph_incrementally(filename):\n",
    "    \"\"\"\n",
    "    Builds an undirected weighted graph using igraph by processing captions incrementally.\n",
    "    \"\"\"\n",
    "    filepath = filename#get_full_filepath(filename)\n",
    "    # Create a mapping from names to indices to avoid storing names multiple times\n",
    "    name_to_index = {}\n",
    "    index_counter = 0\n",
    "    edge_weights = {}\n",
    "    \n",
    "    with open(filepath, 'r', encoding='utf-8') as file:\n",
    "        current_caption = []\n",
    "        for line_num, line in enumerate(file):\n",
    "            line = line.strip()\n",
    "            if line == '':\n",
    "                if len(current_caption) > 1:\n",
    "                    # Process the current caption\n",
    "                    indices = []\n",
    "                    for name in current_caption:\n",
    "                        if name not in name_to_index:\n",
    "                            name_to_index[name] = index_counter\n",
    "                            index_counter += 1\n",
    "                        indices.append(name_to_index[name])\n",
    "                    for u, v in itertools.combinations(indices, 2):\n",
    "                        edge = (min(u, v), max(u, v))\n",
    "                        if edge in edge_weights:\n",
    "                            edge_weights[edge] += 1\n",
    "                        else:\n",
    "                            edge_weights[edge] = 1\n",
    "                elif len(current_caption) == 1:\n",
    "                    # Handle single names\n",
    "                    name = current_caption[0]\n",
    "                    if name not in name_to_index:\n",
    "                        name_to_index[name] = index_counter\n",
    "                        index_counter += 1\n",
    "                current_caption = []\n",
    "            else:\n",
    "                current_caption.append(line)\n",
    "        # Process the last caption\n",
    "        if current_caption:\n",
    "            if len(current_caption) > 1:\n",
    "                indices = []\n",
    "                for name in current_caption:\n",
    "                    if name not in name_to_index:\n",
    "                        name_to_index[name] = index_counter\n",
    "                        index_counter += 1\n",
    "                    indices.append(name_to_index[name])\n",
    "                for u, v in itertools.combinations(indices, 2):\n",
    "                    edge = (min(u, v), max(u, v))\n",
    "                    if edge in edge_weights:\n",
    "                        edge_weights[edge] += 1\n",
    "                    else:\n",
    "                        edge_weights[edge] = 1\n",
    "            elif len(current_caption) == 1:\n",
    "                # Handle single names\n",
    "                name = current_caption[0]\n",
    "                if name not in name_to_index:\n",
    "                    name_to_index[name] = index_counter\n",
    "                    index_counter += 1\n",
    "    # Build the graph\n",
    "    num_nodes = index_counter\n",
    "    edges = list(edge_weights.keys())\n",
    "    weights = list(edge_weights.values())\n",
    "    G = ig.Graph()\n",
    "    G.add_vertices(num_nodes)\n",
    "    if edges:\n",
    "        G.add_edges(edges)\n",
    "        G.es['weight'] = weights\n",
    "    else:\n",
    "        G.es['weight'] = []\n",
    "    # Assign names to vertices\n",
    "    index_to_name = {index: name for name, index in name_to_index.items()}\n",
    "    G.vs['name'] = [index_to_name[i] for i in range(num_nodes)]\n",
    "    return G\n",
    "\n",
    "def compute_graph_statistics(G):\n",
    "    \"\"\"\n",
    "    Computes graph statistics: number of nodes, number of edges, diameter, average clustering coefficient.\n",
    "    \"\"\"\n",
    "    num_nodes = G.vcount()\n",
    "    num_edges = G.ecount()\n",
    "    # Diameter calculation\n",
    "    if G.is_connected():\n",
    "        diameter = G.diameter()\n",
    "    else:\n",
    "        # Use the largest connected component\n",
    "        largest_cc = G.clusters().giant()\n",
    "        diameter = largest_cc.diameter()\n",
    "    # Average clustering coefficient\n",
    "    avg_clustering_coeff = G.transitivity_undirected()\n",
    "    graph_stats = {\n",
    "        \"num_nodes\": num_nodes,\n",
    "        \"num_edges\": num_edges,\n",
    "        \"diameter\": diameter,\n",
    "        \"avg_clustering_coeff\": avg_clustering_coeff\n",
    "    }\n",
    "    return graph_stats\n",
    "\n",
    "def get_most_photogenic(G, top_n=100):\n",
    "    \"\"\"\n",
    "    Returns the top_n people with the highest weighted degree (most photogenic).\n",
    "    \"\"\"\n",
    "    degrees = G.strength(weights='weight')\n",
    "    names = G.vs['name']\n",
    "    weighted_degree = list(zip(names, degrees))\n",
    "    top_photogenic = sorted(weighted_degree, key=lambda x: x[1], reverse=True)[:top_n]\n",
    "    return top_photogenic\n",
    "\n",
    "def compute_centrality_measures(G, top_n=10):\n",
    "    \"\"\"\n",
    "    Computes various centrality measures and returns the top_n individuals for each measure.\n",
    "    \"\"\"\n",
    "    # Ensure the graph is connected or use the largest connected component\n",
    "    if not G.is_connected():\n",
    "        G = G.clusters().giant()\n",
    "    \n",
    "    names = G.vs['name']\n",
    "    \n",
    "    # Eccentricity centrality\n",
    "    eccentricity = G.eccentricity()\n",
    "    top_eccentricity = sorted(zip(names, eccentricity), key=lambda x: x[1])[:top_n]  # Lower is better\n",
    "    \n",
    "    # Closeness centrality\n",
    "    closeness = G.closeness(weights='weight')\n",
    "    top_closeness = sorted(zip(names, closeness), key=lambda x: x[1], reverse=True)[:top_n]\n",
    "    \n",
    "    # Betweenness centrality\n",
    "    betweenness = G.betweenness(weights='weight')\n",
    "    top_betweenness = sorted(zip(names, betweenness), key=lambda x: x[1], reverse=True)[:top_n]\n",
    "    \n",
    "    # Eigenvector centrality (prestige)\n",
    "    eigenvector = G.eigenvector_centrality(weights='weight')\n",
    "    top_eigenvector = sorted(zip(names, eigenvector), key=lambda x: x[1], reverse=True)[:top_n]\n",
    "    \n",
    "    # PageRank\n",
    "    pagerank = G.pagerank(damping=0.85, weights='weight')\n",
    "    top_pagerank = sorted(zip(names, pagerank), key=lambda x: x[1], reverse=True)[:top_n]\n",
    "    \n",
    "    centrality_measures = {\n",
    "        'eccentricity': top_eccentricity,\n",
    "        'closeness': top_closeness,\n",
    "        'betweenness': top_betweenness,\n",
    "        'eigenvector': top_eigenvector,\n",
    "        'pagerank': top_pagerank\n",
    "    }\n",
    "    return centrality_measures\n",
    "\n",
    "def get_top_edges(G, top_n=100):\n",
    "    \"\"\"\n",
    "    Returns the top_n edges with the highest weights.\n",
    "    \"\"\"\n",
    "    edges = G.get_edgelist()\n",
    "    weights = G.es['weight']\n",
    "    edge_list = [(G.vs[u]['name'], G.vs[v]['name'], w) for (u, v), w in zip(edges, weights)]\n",
    "    top_edges = sorted(edge_list, key=lambda x: x[2], reverse=True)[:top_n]\n",
    "    return top_edges"
   ]
  },
  {
   "cell_type": "markdown",
   "metadata": {
    "slideshow": null
   },
   "source": [
    "## Question 3: Graph EDA (20 p)\n"
   ]
  },
  {
   "cell_type": "code",
   "execution_count": 49,
   "metadata": {},
   "outputs": [],
   "source": [
    "import networkx as nx\n",
    "\n",
    "# Initialize an empty graph\n",
    "G = nx.Graph()\n",
    "\n",
    "# Dictionary to hold edge weights\n",
    "edge_weights = {}\n",
    "\n",
    "# Open and process the file line by line\n",
    "with open('final.txt', 'r') as f:\n",
    "    for line in f:\n",
    "        names = [name.strip() for name in line.split(',') if name.strip()]  # Split names and strip spaces\n",
    "        \n",
    "        # Add edges between every pair of names in the same line\n",
    "        for i in range(len(names)):\n",
    "            for j in range(i + 1, len(names)):\n",
    "                edge = (names[i], names[j])\n",
    "                \n",
    "                # Update the weight for the edge\n",
    "                if edge in edge_weights:\n",
    "                    edge_weights[edge] += 1\n",
    "                else:\n",
    "                    edge_weights[edge] = 1\n",
    "\n",
    "# Add edges to the graph with their corresponding weights\n",
    "for (u, v), weight in edge_weights.items():\n",
    "    G.add_edge(u, v, weight=weight)\n"
   ]
  },
  {
   "cell_type": "code",
   "execution_count": 50,
   "metadata": {},
   "outputs": [
    {
     "name": "stdout",
     "output_type": "stream",
     "text": [
      "IGRAPH UNW- 91040 183720 -- \n",
      "+ attr: name (v), weight (e)\n"
     ]
    }
   ],
   "source": [
    "import igraph as ig\n",
    "# Step 1: Get the edges and weights from the networkx graph\n",
    "edges = list(G.edges())\n",
    "weights = [G[u][v].get('weight', 1) for u, v in G.edges()]  # Default weight to 1 if not provided\n",
    "\n",
    "# Step 2: Create an igraph graph using the edges\n",
    "G_ig = ig.Graph()\n",
    "G_ig.add_vertices(list(G.nodes()))  # Add vertices (nodes)\n",
    "G_ig.add_edges(edges)  # Add edges\n",
    "G_ig.es['weight'] = weights  # Assign weights to the edges\n",
    "\n",
    "# Now you can use G_ig as an igraph graph\n",
    "print(G_ig.summary())"
   ]
  },
  {
   "cell_type": "code",
   "execution_count": 51,
   "metadata": {},
   "outputs": [
    {
     "name": "stdout",
     "output_type": "stream",
     "text": [
      "91040\n",
      "183720\n",
      "0.4998633398638496\n",
      "22\n"
     ]
    }
   ],
   "source": [
    "\n",
    "num_nodes = G.number_of_nodes()\n",
    "num_edges = G.number_of_edges()\n",
    "avg_clustering_coeff = nx.average_clustering(G)\n",
    "diameter = G_ig.diameter(directed=False, weights=None)\n",
    "\n",
    "print(num_nodes)\n",
    "print(num_edges)\n",
    "print(avg_clustering_coeff)\n",
    "print(diameter)"
   ]
  },
  {
   "cell_type": "code",
   "execution_count": 6,
   "metadata": {},
   "outputs": [],
   "source": [
    "import matplotlib.pyplot as plt\n",
    "def visualize_graph(G):\n",
    "    \"\"\"\n",
    "    Visualizes the graph using a spring layout.\n",
    "    For large graphs, it visualizes a subgraph of up to 100 nodes.\n",
    "    \"\"\"\n",
    "    # Visualize a subgraph if the graph is too large\n",
    "    subgraph = G\n",
    "    if G.number_of_nodes() > 100:\n",
    "        # Largest connected component\n",
    "        largest_cc = max(nx.connected_components(G), key=len)\n",
    "        subgraph = G.subgraph(largest_cc)\n",
    "        # Limit to 100 nodes\n",
    "        if subgraph.number_of_nodes() > 100:\n",
    "            subgraph = subgraph.subgraph(list(subgraph.nodes())[:100])\n",
    "\n",
    "    pos = nx.spring_layout(subgraph)\n",
    "\n",
    "    # Draw nodes and edges\n",
    "    nx.draw_networkx_nodes(subgraph, pos, node_size=300, node_color='lightblue')\n",
    "    nx.draw_networkx_edges(subgraph, pos, width=1.0, alpha=0.5, edge_color='gray')\n",
    "    nx.draw_networkx_labels(subgraph, pos, font_size=8)\n",
    "\n",
    "    # Add edge weights as labels\n",
    "    edge_labels = {(u, v): d['weight'] for u, v, d in subgraph.edges(data=True)}\n",
    "    nx.draw_networkx_edge_labels(subgraph, pos, edge_labels=edge_labels, font_size=6)\n",
    "\n",
    "    plt.title(\"Graph Visualization\")\n",
    "    plt.axis('off')\n",
    "    plt.show()\n",
    "\n",
    "visualize_graph(G)"
   ]
  },
  {
   "cell_type": "markdown",
   "metadata": {},
   "source": [
    "- Use parsed names to create the undirected weighted network and visualize it (5 p)\n",
    "- Report the number of nodes and edges (5 p)\n",
    "Number of nodes is 91040 and edges 183720\n",
    "- What is the diameter of this graph? (5 p)\n",
    "Calculated Diameter is 21 for the largest connected subgraph\n",
    "- What is the average clustering coeff of the graph? How you interpret this number? (5 p)\n",
    "0.4998633398638496 is the average clustering coeff. As we know that clustering coefficient is between 0 and 1. With 0 meaning no clustering at all and 1 being a very good cluster with every neightbor of the node being interconnected. 0.50 represents that around 50% of valid connections of node's neightbors are real connections of the graph."
   ]
  },
  {
   "cell_type": "markdown",
   "metadata": {},
   "source": []
  },
  {
   "cell_type": "markdown",
   "metadata": {},
   "source": []
  },
  {
   "cell_type": "markdown",
   "metadata": {},
   "source": [
    "## Question 4: Graph properties (20 p)"
   ]
  },
  {
   "cell_type": "markdown",
   "metadata": {},
   "source": [
    "What real-world graph properties does this graph exhibit? Please show your work and interpret your answer. Does the result make sense given the nature of the graph?"
   ]
  },
  {
   "cell_type": "markdown",
   "metadata": {},
   "source": [
    "The given graph is not fully connected and has a clustering coeff of 0.49 and diameter of 21. The graph is not fullt connected (as presented on the plot) aligns with the nature of the graph. The graph represents connections within people, thus it makes sence that people are not fully connected and groups of people can be isolated from each other and never take pictures with each other. Which creates subgraphs of people who like to take pictures with each other.\n",
    "\n",
    "Given the clustering coeff in our graph it makes sence to have moderate coefficient. As people who take pictures in the group are likelly to know each other and take more pictures with each other, creating dense clusters. Which also make sense given the nature of the network graph\n",
    "\n",
    "Given the diameter of 21, it can be interperated that the longest shortest distance of the biggest subgraph is 21. Given th nature of the graph it makes sence that people will be able to reach each other in 21 paths or less. As they are taking pictures with friend and then those friend know other people and take pictures and so on. "
   ]
  },
  {
   "cell_type": "markdown",
   "metadata": {},
   "source": [
    "## Question 4: Who are the most photogenic persons? (10 p)"
   ]
  },
  {
   "cell_type": "markdown",
   "metadata": {
    "slideshow": null
   },
   "source": [
    "The simplest question to ask is \"who is the most popular\"?  The easiest way to answer this question is to look at how many connections everyone has.  Return the top 100 people and their degree.  Remember that if an edge of the graph has weight 2, it counts for 2 in the degree.\n",
    "\n",
    "**Checkpoint:** Some aggregate stats on the solution\n",
    "\n",
    "    \"count\": 100.0\n",
    "    \"mean\": 189.92\n",
    "    \"std\": 87.8053034454\n",
    "    \"min\": 124.0\n",
    "    \"25%\": 138.0\n",
    "    \"50%\": 157.0\n",
    "    \"75%\": 195.0\n",
    "    \"max\": 666.0"
   ]
  },
  {
   "cell_type": "code",
   "execution_count": 13,
   "metadata": {},
   "outputs": [],
   "source": [
    "def get_most_photogenic(G, top_n=100):\n",
    "    \"\"\"\n",
    "    Returns the top_n people with the highest weighted degree (most photogenic).\n",
    "    \"\"\"\n",
    "    # Compute weighted degrees\n",
    "    weighted_degree = dict(G.degree(weight='weight'))\n",
    "\n",
    "    # Sort by weighted degree in descending order and take the top N\n",
    "    top_photogenic = sorted(weighted_degree.items(), key=lambda x: x[1], reverse=True)[:top_n]\n",
    "    \n",
    "    return top_photogenic"
   ]
  },
  {
   "cell_type": "code",
   "execution_count": 15,
   "metadata": {
    "slideshow": null
   },
   "outputs": [
    {
     "name": "stdout",
     "output_type": "stream",
     "text": [
      "Top 100 Most Photogenic Persons:\n",
      "                  Person  Weighted Degree\n",
      "          Jean Shafiroff              592\n",
      "         Mark Gilbertson              435\n",
      "         Gillian Miniter              383\n",
      "      Geoffrey Bradfield              295\n",
      "     Alexandra Lebenthal              280\n",
      "           Andrew Saffir              277\n",
      "           Somers Farkas              271\n",
      "            Mario Buatta              270\n",
      "        Eleanora Kennedy              255\n",
      "         Debbie Bancroft              254\n",
      "           Yaz Hernandez              253\n",
      "         Kamie Lightburn              230\n",
      "      Lucia Hwong Gordon              225\n",
      "               Alina Cho              225\n",
      "       Michael Bloomberg              223\n",
      "       Liliana Cavendish              220\n",
      "             Sharon Bush              209\n",
      "           Bonnie Comley              205\n",
      "     Muffie Potter Aston              198\n",
      "        Patrick McMullan              185\n",
      "           Jamee Gregory              185\n",
      "          Bettina Zilkha              182\n",
      "          Martha Stewart              179\n",
      "           Barbara Tober              172\n",
      "           Allison Aston              172\n",
      "             Amy Hoadley              171\n",
      "        Deborah Norville              171\n",
      "             Donna Karan              170\n",
      "        Amy Fine Collins              166\n",
      "            Dennis Basso              163\n",
      "     Elizabeth Stribling              161\n",
      "            Stewart Lane              161\n",
      "           Barbara Regna              160\n",
      "            Diana Taylor              157\n",
      "          Jennifer Creel              155\n",
      "         Daniel Benedict              153\n",
      "           Grace Meigher              151\n",
      "           Nicole Miller              149\n",
      "        Margo Langenberg              148\n",
      "                   Guest              146\n",
      "         Kipton Cronkite              143\n",
      "                Liz Peek              142\n",
      "           Evelyn Lauder              142\n",
      "          Felicia Taylor              139\n",
      "          Leonard Lauder              138\n",
      "             Karen Klopp              136\n",
      "             Lydia Fenet              135\n",
      "            Karen LeFrak              134\n",
      "              Tory Burch              133\n",
      "   Adelina Wong Ettelson              133\n",
      "                Fe Fendi              132\n",
      "            Audrey Gruss              132\n",
      "          Annette Rickel              132\n",
      "            R. Couri Hay              130\n",
      "             Roric Tobin              130\n",
      "        Fernanda Kellogg              128\n",
      "             Anka Palitz              128\n",
      "         Michele Herbert              128\n",
      "Dayssi Olarte de Kanavos              127\n",
      "       Sylvester Miniter              126\n",
      "           Janna Bullock              126\n",
      "              Susan Shin              126\n",
      "         Russell Simmons              126\n",
      "              CeCe Black              125\n",
      "          Susan Magazine              125\n",
      "     Alexandra Lind Rose              124\n",
      "             John Demsey              124\n",
      "        Alexia Hamm Ryan              123\n",
      "           Coco Kopelman              123\n",
      "      Frederick Anderson              123\n",
      "      Christopher Hyland              123\n",
      "          Patricia Shiah              122\n",
      "            Martha Glass              122\n",
      "            Pamela Fiori              122\n",
      "    Cassandra Seidenfeld              122\n",
      "            Gregory Long              120\n",
      "              Paula Zahn              119\n",
      "          Dori Cooperman              117\n",
      "       Hilary Geary Ross              117\n",
      "    Melissa Berkelhammer              117\n",
      "     Dawne Marie Grannum              116\n",
      "         Richard Johnson              115\n",
      "        Tinsley Mortimer              115\n",
      "    Michele Gerber Klein              114\n",
      "        Margaret Russell              113\n",
      "            Lizzie Tisch              113\n",
      "         Nathalie Kaplan              113\n",
      "             Fern Mallis              112\n",
      "          Rosanna Scotto              111\n",
      "              Carol Mack              110\n",
      "            Bette Midler              110\n",
      "          Wendy Carduner              109\n",
      "           Amy McFarland              109\n",
      "      Beth Rudin DeWoody              108\n",
      "              Julia Koch              108\n",
      "   Coralie Charriol Paul              107\n",
      "            Alec Baldwin              107\n",
      "          Charlotte Moss              107\n",
      "          Cynthia Lufkin              107\n",
      "             Jamie Niven              106\n"
     ]
    }
   ],
   "source": [
    "import pandas as pd\n",
    "top_photogenic = get_most_photogenic(G)\n",
    "# Display the top 100 people and their degrees\n",
    "df_photogenic = pd.DataFrame(top_photogenic, columns=['Person', 'Weighted Degree'])\n",
    "print(\"Top 100 Most Photogenic Persons:\")\n",
    "print(df_photogenic.to_string(index=False))"
   ]
  },
  {
   "cell_type": "markdown",
   "metadata": {
    "slideshow": null
   },
   "source": [
    "## Question 5: Centrality analysis (20 p)\n"
   ]
  },
  {
   "cell_type": "markdown",
   "metadata": {
    "slideshow": null
   },
   "source": [
    "Use eccentricity centrality, closeness centrality, betweenness centrality, prestige, and PageRank to identify the top 10 individuals with the highest centrality for each measure. How do you interpret the results?\n",
    "\n",
    "Use 0.85 as the damping parameter for page rank, so that there is a 15% chance of jumping to another vertex at random.\n",
    "\n",
    "**Checkpoint:** Some aggregate stats on the solution for pagerank\n",
    "\n",
    "    \"count\": 100.0\n",
    "    \"mean\": 0.0001841088\n",
    "    \"std\": 0.0000758068\n",
    "    \"min\": 0.0001238355\n",
    "    \"25%\": 0.0001415028\n",
    "    \"50%\": 0.0001616183\n",
    "    \"75%\": 0.0001972663\n",
    "    \"max\": 0.0006085816"
   ]
  },
  {
   "cell_type": "code",
   "execution_count": 46,
   "metadata": {},
   "outputs": [],
   "source": [
    "def compute_centrality_measures_igraph(G, top_n=10):\n",
    "    \"\"\"\n",
    "    Computes various centrality measures and returns the top_n individuals for each measure in an igraph graph.\n",
    "    Adjusts for the fact that weights represent connection strength (higher = stronger) rather than distance.\n",
    "    \"\"\"\n",
    "    # Ensure the graph is connected or use the largest connected component\n",
    "    if not G.is_connected():\n",
    "        G = G.clusters().giant()\n",
    "\n",
    "    names = G.vs['name']\n",
    "\n",
    "    # Eccentricity centrality (lower is better) - use inverted weights\n",
    "    eccentricity = G.eccentricity()\n",
    "    top_eccentricity = sorted(zip(names, eccentricity), key=lambda x: x[1])[:top_n]\n",
    "\n",
    "    # Closeness centrality (higher is better) - use inverted weights\n",
    "    closeness = G.closeness()\n",
    "    top_closeness = sorted(zip(names, closeness), key=lambda x: x[1], reverse=True)[:top_n]\n",
    "\n",
    "    # Betweenness centrality (higher is better) - no need to invert weights\n",
    "    betweenness = G.betweenness()\n",
    "    top_betweenness = sorted(zip(names, betweenness), key=lambda x: x[1], reverse=True)[:top_n]\n",
    "\n",
    "    # Eigenvector centrality (prestige, higher is better) - no need to invert weights\n",
    "    eigenvector = G.eigenvector_centrality()\n",
    "    top_eigenvector = sorted(zip(names, eigenvector), key=lambda x: x[1], reverse=True)[:top_n]\n",
    "\n",
    "    # PageRank (higher is better) - no need to invert weights\n",
    "    pagerank = G.pagerank(damping=0.85)\n",
    "    top_pagerank = sorted(zip(names, pagerank), key=lambda x: x[1], reverse=True)[:top_n]\n",
    "\n",
    "    centrality_measures = {\n",
    "        'eccentricity': top_eccentricity,\n",
    "        'closeness': top_closeness,\n",
    "        'betweenness': top_betweenness,\n",
    "        'eigenvector': top_eigenvector,\n",
    "        'pagerank': top_pagerank\n",
    "    }\n",
    "\n",
    "    return centrality_measures\n"
   ]
  },
  {
   "cell_type": "code",
   "execution_count": 47,
   "metadata": {},
   "outputs": [
    {
     "name": "stdout",
     "output_type": "stream",
     "text": [
      "IGRAPH UNW- 86129 164136 -- \n",
      "+ attr: name (v), weight (e)\n"
     ]
    }
   ],
   "source": [
    "import igraph as ig\n",
    "\n",
    "# Convert graph to ig graph for faster computation\n",
    "edges = list(G.edges())\n",
    "weights = [G[u][v].get('weight', 1) for u, v in G.edges()]  \n",
    "\n",
    "G_ig = ig.Graph()\n",
    "G_ig.add_vertices(list(G.nodes()))  \n",
    "G_ig.add_edges(edges)  \n",
    "G_ig.es['weight'] = weights  \n",
    "\n",
    "print(G_ig.summary())"
   ]
  },
  {
   "cell_type": "code",
   "execution_count": 48,
   "metadata": {},
   "outputs": [
    {
     "name": "stdout",
     "output_type": "stream",
     "text": [
      "\n",
      "Question 5: Centrality Analysis\n"
     ]
    },
    {
     "name": "stderr",
     "output_type": "stream",
     "text": [
      "/var/folders/l5/kbyr66ln4bv94tkr7_h2gp1c0000gn/T/ipykernel_23549/4192189943.py:153: DeprecationWarning: Graph.clusters() is deprecated; use Graph.connected_components() instead\n",
      "  G = G.clusters().giant()\n"
     ]
    },
    {
     "name": "stdout",
     "output_type": "stream",
     "text": [
      "\n",
      "Top 10 Individuals by Eccentricity:\n",
      "            Person  Eccentricity\n",
      "    Jean Shafiroff          11.0\n",
      "          Ann Rapp          11.0\n",
      "         Kat Cohen          11.0\n",
      "   Mark Gilbertson          11.0\n",
      "     Tatiana Platt          11.0\n",
      " Stephanie Hessler          11.0\n",
      "      Blair Clarke          11.0\n",
      "   Anthony Addison          11.0\n",
      "Blair Voltz Clarke          11.0\n",
      "      Mariana Zois          11.0\n",
      "\n",
      "Top 10 Individuals by Closeness:\n",
      "             Person  Closeness\n",
      "    Mark Gilbertson   0.254786\n",
      "     Jean Shafiroff   0.253095\n",
      "      Somers Farkas   0.248283\n",
      "          Alina Cho   0.247187\n",
      "    Gillian Miniter   0.246627\n",
      " Lucia Hwong Gordon   0.246018\n",
      "Alexandra Lebenthal   0.244997\n",
      "        Sharon Bush   0.242092\n",
      "      Jamee Gregory   0.241965\n",
      "    Debbie Bancroft   0.241471\n",
      "\n",
      "Top 10 Individuals by Betweenness:\n",
      "            Person  Betweenness\n",
      "    Jean Shafiroff 8.823804e+07\n",
      "   Mark Gilbertson 7.525869e+07\n",
      " Michael Bloomberg 3.822295e+07\n",
      "      Mario Buatta 3.588957e+07\n",
      "   Gillian Miniter 3.314001e+07\n",
      "Geoffrey Bradfield 3.207328e+07\n",
      "Lucia Hwong Gordon 3.053996e+07\n",
      "         Alina Cho 2.970466e+07\n",
      "     Andrew Saffir 2.905188e+07\n",
      "     Somers Farkas 2.794281e+07\n",
      "\n",
      "Top 10 Individuals by Eigenvector:\n",
      "             Person  Eigenvector\n",
      "    Gillian Miniter     1.000000\n",
      "  Sylvester Miniter     0.882323\n",
      "     Jean Shafiroff     0.493354\n",
      "   Martin Shafiroff     0.325516\n",
      "Alexandra Lebenthal     0.286625\n",
      "      Yaz Hernandez     0.263580\n",
      "      Somers Farkas     0.216035\n",
      "        Sharon Bush     0.186547\n",
      "           Fe Fendi     0.176426\n",
      "Muffie Potter Aston     0.174211\n",
      "\n",
      "Top 10 Individuals by Pagerank:\n",
      "             Person  Pagerank\n",
      "     Jean Shafiroff  0.001254\n",
      "    Mark Gilbertson  0.000949\n",
      "    Gillian Miniter  0.000782\n",
      "      Andrew Saffir  0.000651\n",
      " Geoffrey Bradfield  0.000643\n",
      "       Mario Buatta  0.000636\n",
      "Alexandra Lebenthal  0.000600\n",
      "      Somers Farkas  0.000563\n",
      "  Michael Bloomberg  0.000540\n",
      "      Yaz Hernandez  0.000535\n",
      "\n",
      "Aggregate statistics for PageRank:\n",
      "count    10.000000\n",
      "mean      0.000715\n",
      "std       0.000227\n",
      "min       0.000535\n",
      "25%       0.000572\n",
      "50%       0.000640\n",
      "75%       0.000749\n",
      "max       0.001254\n",
      "Name: Pagerank, dtype: float64\n"
     ]
    }
   ],
   "source": [
    "print(\"\\nQuestion 5: Centrality Analysis\")\n",
    "centrality_measures = compute_centrality_measures(G_ig)\n",
    "for measure_name, top_individuals in centrality_measures.items():\n",
    "    print(f\"\\nTop 10 Individuals by {measure_name.capitalize()}:\")\n",
    "    df_measure = pd.DataFrame(top_individuals, columns=['Person', measure_name.capitalize()])\n",
    "    print(df_measure.to_string(index=False))\n",
    "    if measure_name == 'pagerank':\n",
    "        # Compute aggregate statistics for the checkpoint\n",
    "        stats_pagerank = df_measure[measure_name.capitalize()].describe()\n",
    "        print(\"\\nAggregate statistics for PageRank:\")\n",
    "        print(stats_pagerank)"
   ]
  },
  {
   "cell_type": "markdown",
   "metadata": {
    "slideshow": null
   },
   "source": [
    "## Question 6: best_friends (10 p)\n"
   ]
  },
  {
   "cell_type": "markdown",
   "metadata": {
    "slideshow": null
   },
   "source": [
    "Another interesting question is who tend to co-occur with each other.  Give us the 100 edges with the highest weights.\n",
    "\n",
    "Google these people and see what their connection is.  Can we use this to detect instances of infidelity?\n",
    "\n",
    "**Checkpoint:** Some aggregate stats on the solution\n",
    "\n",
    "    \"count\": 100.0\n",
    "    \"mean\": 25.84\n",
    "    \"std\": 16.0395470855\n",
    "    \"min\": 14.0\n",
    "    \"25%\": 16.0\n",
    "    \"50%\": 19.0\n",
    "    \"75%\": 29.25\n",
    "    \"max\": 109.0"
   ]
  },
  {
   "cell_type": "code",
   "execution_count": 17,
   "metadata": {},
   "outputs": [],
   "source": [
    "def get_top_edges(G, top_n=100):\n",
    "    \"\"\"\n",
    "    Returns the top_n edges with the highest weights.\n",
    "    If an edge does not have a 'weight' attribute, it defaults to 0.\n",
    "    \"\"\"\n",
    "    # Create a list of edges with weights, defaulting to 0 if 'weight' not present\n",
    "    edge_list = [\n",
    "        (u, v, data.get('weight', 0))  # Use .get() to avoid KeyError\n",
    "        for u, v, data in G.edges(data=True)\n",
    "    ]\n",
    "    \n",
    "    # Sort edges by weight in descending order and take the top N\n",
    "    top_edges = sorted(edge_list, key=lambda x: x[2], reverse=True)[:top_n]\n",
    "    \n",
    "    return top_edges"
   ]
  },
  {
   "cell_type": "code",
   "execution_count": 18,
   "metadata": {
    "slideshow": null
   },
   "outputs": [
    {
     "name": "stdout",
     "output_type": "stream",
     "text": [
      "Top 100 Edges with Highest Weights:\n",
      "                  Person1                  Person2  Weight\n",
      "          Gillian Miniter        Sylvester Miniter      58\n",
      "            Bonnie Comley             Stewart Lane      55\n",
      "           Jean Shafiroff         Martin Shafiroff      44\n",
      "       Geoffrey Bradfield              Roric Tobin      34\n",
      "            Somers Farkas          Jonathan Farkas      34\n",
      "              Peter Regna            Barbara Regna      32\n",
      "            Campion Platt            Tatiana Platt      28\n",
      "             Guy Robinson      Elizabeth Stribling      25\n",
      "            Grace Meigher            Chris Meigher      22\n",
      "       Margo Catsimatidis        John Catsimatidis      22\n",
      "         Eleanora Kennedy          Michael Kennedy      21\n",
      "             R. Couri Hay            Janna Bullock      21\n",
      "            Barbara Tober             Donald Tober      21\n",
      "               David Koch               Julia Koch      21\n",
      "          Daniel Benedict            Andrew Saffir      20\n",
      "            Jamee Gregory            Peter Gregory      20\n",
      "           Jonathan Tisch             Lizzie Tisch      20\n",
      "            Melania Trump             Donald Trump      20\n",
      "        Hilary Geary Ross              Wilbur Ross      19\n",
      "         Deborah Norville             Karl Wellner      17\n",
      "            Charles Cohen                Clo Cohen      17\n",
      "        Michael Cominotto             Dennis Basso      16\n",
      "     Sessa von Richthofen          Richard Johnson      16\n",
      "              John Demsey                Alina Cho      16\n",
      "            Chappy Morris           Melissa Morris      15\n",
      "       Frederick Anderson          Douglas Hannant      15\n",
      "         Fernanda Kellogg            Kirk Henckels      14\n",
      "            Coco Kopelman            Arie Kopelman      14\n",
      "             Nina Griscom           Leonel Piraino      14\n",
      "      Alexandra Lebenthal              Jay Diamond      14\n",
      "           Tommy Hilfiger              Dee Ocleppo      14\n",
      "           Michael Kovner Jean Doyen de Montaillou      14\n",
      "          Melanie Wambold             John Wambold      13\n",
      "      Muffie Potter Aston           Sherrell Aston      13\n",
      "              Hunt Slonem        Liliana Cavendish      13\n",
      "           Jean Shafiroff              Sharon Bush      12\n",
      "              Wilbur Ross              Hilary Ross      12\n",
      "               Dan Lufkin           Cynthia Lufkin      12\n",
      "                   Andrew                   Andrew      12\n",
      "            Sharon Sondes          Geoffrey Thomas      12\n",
      "             Ruben Toledo            Isabel Toledo      12\n",
      "            Somers Farkas      Muffie Potter Aston      11\n",
      "               Rita Cosby        Tomaczek Bednarek      11\n",
      "            Mary Davidson          Marvin Davidson      11\n",
      "             Simon Doonan           Jonathan Adler      11\n",
      "        Chuck Scarborough        Ellen Scarborough      11\n",
      "          Jennifer Mabley           Austin Handler      11\n",
      "               Marc Rosen              Arlene Dahl      11\n",
      "             David Lauren              Lauren Bush      11\n",
      "            Yaz Hernandez       Valentin Hernandez      10\n",
      "               Patsy Tarr                Jeff Tarr      10\n",
      "         Eleanora Kennedy               Anna Safir      10\n",
      "           Rick Friedberg          Francine LeFrak      10\n",
      "             Dick Soloway            Donna Soloway      10\n",
      "             Diana Taylor        Michael Bloomberg      10\n",
      "          Renee Steinberg        Richard Steinberg      10\n",
      "                      PhD                      PhD      10\n",
      "         Alexia Hamm Ryan                Mary Snow       9\n",
      "           Patricia Shiah       Lucia Hwong Gordon       9\n",
      "          Debbie Bancroft            Tiffany Dubin       9\n",
      "            Jay McInerney    Anne Hearst McInerney       9\n",
      "       Jerry Della Femina               Judy Licht       9\n",
      "             Randy Kemper              Tony Ingrao       9\n",
      "        Gayfryd Steinberg          Louise Grunwald       9\n",
      "            Othon Prounis            Kathy Prounis       9\n",
      "              Susan Burke            Coleman Burke       9\n",
      "              Susan Nagel                Jon Nagel       9\n",
      "         Libby Fitzgerald         Terry Fitzgerald       9\n",
      "            Ellie Cullman            Edgar Cullman       9\n",
      "              Rod Gilbert             Judy Gilbert       9\n",
      "            Nicole Miller              Kim Taipale       9\n",
      "             John Eastman            Jodie Eastman       9\n",
      "            Andrea DuBois           Maurice DuBois       9\n",
      "           Marcia Mishaan          Richard Mishaan       9\n",
      "           Susan Magazine       Nicholas Scoppetta       9\n",
      "          Chris Del Gatto            Veronica Webb       9\n",
      "Stephanie Winston Wolkoff            Roxanne Palin       9\n",
      "          Steven Butensky               Di Petroff       9\n",
      "             Joan Collins             Percy Gibson       9\n",
      "          Caroline Murphy        Heather Matarazzo       9\n",
      "          Gillian Miniter           Serena Miniter       8\n",
      "          Gillian Miniter           Elyse Newhouse       8\n",
      "          Gillian Miniter             Alexis Clark       8\n",
      "          Deborah Roberts                 Al Roker       8\n",
      "             George Ledes           Felicia Taylor       8\n",
      "             Martha Glass               John Glass       8\n",
      "            Leslie Heaney            Andrew Heaney       8\n",
      "          Daniel Benedict           Johannes Huebl       8\n",
      "                 Lucy Day                  Nat Day       8\n",
      "      Michael Rockefeller         Tara Rockefeller       8\n",
      "            Larry Herbert          Michele Herbert       8\n",
      "             Karen LeFrak              Peter Lyden       8\n",
      "      Alexandra Lebenthal        Claudia Lebenthal       8\n",
      "         Paola Rosenshein         Arnie Rosenshein       8\n",
      "              Joan Hornig            George Hornig       8\n",
      "         Susan Krysiewicz              Thomas Bell       8\n",
      "                Lee Black               Cece Black       8\n",
      "               Jill Zarin              Bobby Zarin       8\n",
      "                Eli Broad             Edythe Broad       8\n",
      "           Tatiana Perkin            Thorne Perkin       8\n"
     ]
    }
   ],
   "source": [
    "import pandas as pd\n",
    "\n",
    "top_edges = get_top_edges(G)\n",
    "df_edges = pd.DataFrame(top_edges, columns=['Person1', 'Person2', 'Weight'])\n",
    "print(\"Top 100 Edges with Highest Weights:\")\n",
    "print(df_edges.to_string(index=False))"
   ]
  },
  {
   "cell_type": "markdown",
   "metadata": {},
   "source": [
    "Gillian Miniter and Sylvester Miniter are married and it makes sense that they are 'best friends'\n",
    "\n",
    "Bonnie Comley and Stewart Lane are also married and business parthners\n",
    "\n",
    "Jean Shafiroff and Martin Shafiroff are also married\n",
    "\n",
    "Looking at those examples it makes sense to use weight of the edge to describe how strong is the relationship between the nodes. It can provide a lot of information about the connections between nodes."
   ]
  }
 ],
 "metadata": {
  "kernelspec": {
   "display_name": "Python 3 (ipykernel)",
   "language": "python",
   "name": "python3"
  },
  "language_info": {
   "codemirror_mode": {
    "name": "ipython",
    "version": 3
   },
   "file_extension": ".py",
   "mimetype": "text/x-python",
   "name": "python",
   "nbconvert_exporter": "python",
   "pygments_lexer": "ipython3",
   "version": "3.10.7"
  },
  "nbclean": true
 },
 "nbformat": 4,
 "nbformat_minor": 4
}
