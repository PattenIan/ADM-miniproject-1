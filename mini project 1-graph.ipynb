{
 "cells": [
  {
   "cell_type": "code",
   "execution_count": 1,
   "metadata": {
    "slideshow": null
   },
   "outputs": [],
   "source": [
    "import seaborn as sns"
   ]
  },
  {
   "cell_type": "markdown",
   "metadata": {
    "slideshow": null
   },
   "source": [
    "# The New York Social Graph\n"
   ]
  },
  {
   "cell_type": "markdown",
   "metadata": {},
   "source": [
    "[New York Social Diary](https://www.newyorksocialdiary.com/) provides a\n",
    "fascinating lens onto New York's socially well-to-do.  The data forms a natural social graph for New York's social elite.  Take a look at this page of a recent [To Love Unconditionally](https://www.newyorksocialdiary.com/to-love-unconditionally/). \n",
    "\n",
    "You will notice the photos have carefully annotated captions labeling those that appear in the photos.  We can think of this as implicitly implying a social graph: there is a connection between two individuals if they appear in a picture together.\n",
    "\n",
    "For this project, we will assemble the social graph from photo captions for parties.  Using this graph, we can make guesses at the most popular socialites, the most influential people, and the most tightly coupled pairs.\n",
    "\n",
    "We will attack the project in three phases:\n",
    "1. Get a list of all the photo pages to be analyzed. \n",
    "2. Get all captions in each party, Parse all of the captions and extract guests' names.\n",
    "3. Assemble the graph, analyze the graph and answer the questions"
   ]
  },
  {
   "cell_type": "markdown",
   "metadata": {
    "slideshow": null
   },
   "source": [
    "## Phase One\n"
   ]
  },
  {
   "cell_type": "markdown",
   "metadata": {
    "slideshow": null
   },
   "source": [
    "The first step is to crawl the data.  We want photos from parties on or before December 1st, 2014.  Go to the [Party Pictures Archive](https://web.archive.org/web/20150913224145/http://www.newyorksocialdiary.com/party-pictures) to see a list of (party) pages.  We want to get the url for each party page, along with its date.\n",
    "\n",
    "Here are some packages that you may find useful.  You are welcome to use others, if you prefer."
   ]
  },
  {
   "cell_type": "code",
   "execution_count": 3,
   "metadata": {
    "slideshow": null
   },
   "outputs": [],
   "source": [
    "import requests\n",
    "import dill\n",
    "from bs4 import BeautifulSoup\n",
    "from datetime import datetime"
   ]
  },
  {
   "cell_type": "markdown",
   "metadata": {
    "slideshow": null
   },
   "source": [
    "We recommend using Python [Requests](http://docs.python-requests.org/en/master/) to download the HTML pages, and [BeautifulSoup](https://www.crummy.com/software/BeautifulSoup/) to process the HTML.  Let's start by getting the [first page](https://web.archive.org/web/20150913224145/http://www.newyorksocialdiary.com/party-pictures)."
   ]
  },
  {
   "cell_type": "code",
   "execution_count": null,
   "metadata": {
    "slideshow": null
   },
   "outputs": [],
   "source": [
    "url = \"https://web.archive.org/web/20150913224145/http://www.newyorksocialdiary.com/party-pictures\"\n",
    "page = requests.get(url) # Use requests.get to download the page."
   ]
  },
  {
   "cell_type": "markdown",
   "metadata": {
    "slideshow": null
   },
   "source": [
    "Now, we process the text of the page with BeautifulSoup."
   ]
  },
  {
   "cell_type": "code",
   "execution_count": null,
   "metadata": {},
   "outputs": [],
   "source": [
    "# Step 1: Fetch the HTML content\n",
    "url = 'http://example.com'  # Replace with your target URL\n",
    "response = requests.get(url)\n",
    "html_content = response.text\n",
    "\n",
    "# Step 2: Parse the HTML content\n",
    "soup = BeautifulSoup(html_content, 'html.parser')\n",
    "\n",
    "# Step 3: Find the specific <div> (example using class)\n",
    "div = soup.find('div', class_='specific-class')  # Replace 'specific-class' with the actual class name\n",
    "\n",
    "# Step 4: Extract the link from the <div>\n",
    "if div:\n",
    "    link = div.find('a')  # Find the first <a> tag within the <div>\n",
    "    if link and 'href' in link.attrs:\n",
    "        href = link['href']\n",
    "        print('Link:', href)\n",
    "    else:\n",
    "        print('No link found in the specified <div>.')\n",
    "else:\n",
    "    print('No <div> found with the specified class.')\n"
   ]
  },
  {
   "cell_type": "code",
   "execution_count": null,
   "metadata": {
    "slideshow": null
   },
   "outputs": [],
   "source": [
    "soup = BeautifulSoup(page.text, \"lxml\")\n"
   ]
  },
  {
   "cell_type": "markdown",
   "metadata": {
    "slideshow": null
   },
   "source": [
    "This page has links to 50 party pages. Look at the structure of the page and determine how to isolate those links.  Your browser's developer tools (usually `Cmd`-`Option`-`I` on Mac, `Ctrl`-`Shift`-`I` on others) offer helpful tools to explore the structure of the HTML page.\n",
    "\n",
    "Once you have found a pattern, use BeautifulSoup's [select](https://www.crummy.com/software/BeautifulSoup/bs4/doc/#css-selectors) or [find_all](https://www.crummy.com/software/BeautifulSoup/bs4/doc/#find) methods to get those elements."
   ]
  },
  {
   "cell_type": "code",
   "execution_count": 5,
   "metadata": {
    "slideshow": null
   },
   "outputs": [
    {
     "name": "stdout",
     "output_type": "stream",
     "text": [
      "[('/web/20150918040703/http://www.newyorksocialdiary.com/party-pictures/2015/bunny-hop-the-boys-club-old-bags-and-more', (2015, 3, 13)), ('/web/20150918040703/http://www.newyorksocialdiary.com/party-pictures/2015/sab-the-jewish-museum-roundabout-theatre-and-faces', (2015, 3, 11)), ('/web/20150918040703/http://www.newyorksocialdiary.com/party-pictures/2015/adaa-art-show-bronx-museum-the-china-arts-foundation-international-and-the-palm', (2015, 3, 5)), ('/web/20150918040703/http://www.newyorksocialdiary.com/party-pictures/2015/the-60th-anniversary-of-the-viennese-opera-ball-and-mcnys-directors-council', (2015, 3, 4)), ('/web/20150918040703/http://www.newyorksocialdiary.com/party-pictures/2015/the-new-york-philharmonic-the-new-york-botanical-garden-longhouse-reserve-and', (2015, 3, 2)), ('/web/20150918040703/http://www.newyorksocialdiary.com/party-pictures/2015/mission-accomplished', (2015, 2, 26)), ('/web/20150918040703/http://www.newyorksocialdiary.com/party-pictures/2015/philanthropic-endeavors', (2015, 2, 25)), ('/web/20150918040703/http://www.newyorksocialdiary.com/party-pictures/2015/dining-with-the-divas', (2015, 2, 23)), ('/web/20150918040703/http://www.newyorksocialdiary.com/party-pictures/2015/fielding-dreams', (2015, 2, 18)), ('/web/20150918040703/http://www.newyorksocialdiary.com/party-pictures/2015/generosity-leadership', (2015, 2, 11)), ('/web/20150918040703/http://www.newyorksocialdiary.com/party-pictures/2015/young-new-yorkers', (2015, 2, 9)), ('/web/20150918040703/http://www.newyorksocialdiary.com/party-pictures/2015/preservation-and-care', (2015, 2, 6)), ('/web/20150918040703/http://www.newyorksocialdiary.com/party-pictures/2015/young-collectors-and-benefactors', (2015, 2, 5)), ('/web/20150918040703/http://www.newyorksocialdiary.com/party-pictures/2015/a-public-service', (2015, 2, 2)), ('/web/20150918040703/http://www.newyorksocialdiary.com/party-pictures/2015/adventures-to-and-from', (2015, 1, 30)), ('/web/20150918040703/http://www.newyorksocialdiary.com/party-pictures/2015/was-and-abt', (2015, 1, 26)), ('/web/20150918040703/http://www.newyorksocialdiary.com/party-pictures/2015/starlets-designers-and-art-lovers', (2015, 1, 23)), ('/web/20150918040703/http://www.newyorksocialdiary.com/party-pictures/2015/great-expectations', (2015, 1, 21)), ('/web/20150918040703/http://www.newyorksocialdiary.com/party-pictures/2015/new-york-to-palm-beach-and-back-again', (2015, 1, 14)), ('/web/20150918040703/http://www.newyorksocialdiary.com/party-pictures/2015/from-the-garden-conservatory-to-the-beach-bash', (2015, 1, 12)), ('/web/20150918040703/http://www.newyorksocialdiary.com/party-pictures/2015/expertise-and-excellence', (2015, 1, 2)), ('/web/20150918040703/http://www.newyorksocialdiary.com/party-pictures/2014/with-champagne-a-filling', (2014, 12, 29)), ('/web/20150918040703/http://www.newyorksocialdiary.com/party-pictures/2014/high-above-their-heads', (2014, 12, 22)), ('/web/20150918040703/http://www.newyorksocialdiary.com/party-pictures/2014/holiday-cheer', (2014, 12, 19)), ('/web/20150918040703/http://www.newyorksocialdiary.com/party-pictures/2014/winter-wonderland-ball', (2014, 12, 18)), ('/web/20150918040703/http://www.newyorksocialdiary.com/party-pictures/2014/holiday-dinners-and-doers', (2014, 12, 17)), ('/web/20150918040703/http://www.newyorksocialdiary.com/party-pictures/2014/family-fundraising-events', (2014, 12, 15)), ('/web/20150918040703/http://www.newyorksocialdiary.com/party-pictures/2014/family-gatherings', (2014, 12, 11)), ('/web/20150918040703/http://www.newyorksocialdiary.com/party-pictures/2014/expert-eye', (2014, 12, 8)), ('/web/20150918040703/http://www.newyorksocialdiary.com/party-pictures/2014/every-day-is-a-holiday', (2014, 12, 3)), ('/web/20150918040703/http://www.newyorksocialdiary.com/party-pictures/2014/the-thanksgiving-day-parade-from-the-ground-up', (2014, 12, 1)), ('/web/20150918040703/http://www.newyorksocialdiary.com/party-pictures/2014/gala-guests', (2014, 11, 24)), ('/web/20150918040703/http://www.newyorksocialdiary.com/party-pictures/2014/equal-justice', (2014, 11, 20)), ('/web/20150918040703/http://www.newyorksocialdiary.com/party-pictures/2014/celebrating-the-treasures', (2014, 11, 18)), ('/web/20150918040703/http://www.newyorksocialdiary.com/party-pictures/2014/associates-and-friends', (2014, 11, 17)), ('/web/20150918040703/http://www.newyorksocialdiary.com/party-pictures/2014/michaels-25th', (2014, 11, 13)), ('/web/20150918040703/http://www.newyorksocialdiary.com/party-pictures/2014/new-york-lifelines', (2014, 11, 12)), ('/web/20150918040703/http://www.newyorksocialdiary.com/party-pictures/2014/legends-and-leaders', (2014, 11, 10)), ('/web/20150918040703/http://www.newyorksocialdiary.com/party-pictures/2014/fall-fun', (2014, 11, 6)), ('/web/20150918040703/http://www.newyorksocialdiary.com/party-pictures/2014/park-avenue-armorys-2014-gala-masquerade', (2014, 11, 5)), ('/web/20150918040703/http://www.newyorksocialdiary.com/party-pictures/2014/old-friends-new-friends', (2014, 11, 3)), ('/web/20150918040703/http://www.newyorksocialdiary.com/party-pictures/2014/new-york-new-york-a-helluva-town', (2014, 10, 30)), ('/web/20150918040703/http://www.newyorksocialdiary.com/party-pictures/2014/patrons-sponsors-supporters-friends-alumni-and-members', (2014, 10, 27)), ('/web/20150918040703/http://www.newyorksocialdiary.com/party-pictures/2014/the-fricks-annual-autumn-dinner-and-casita-marias-2014-fiesta', (2014, 10, 23)), ('/web/20150918040703/http://www.newyorksocialdiary.com/party-pictures/2014/new-york-and-beyond', (2014, 10, 22)), ('/web/20150918040703/http://www.newyorksocialdiary.com/party-pictures/2014/compassion-choices', (2014, 10, 17)), ('/web/20150918040703/http://www.newyorksocialdiary.com/party-pictures/2014/public-celebrations', (2014, 10, 13)), ('/web/20150918040703/http://www.newyorksocialdiary.com/party-pictures/2014/junior-councils-taking-the-lead', (2014, 10, 8)), ('/web/20150918040703/http://www.newyorksocialdiary.com/party-pictures/2014/luncheons-lectures-and-masked-balls', (2014, 10, 6)), ('/web/20150918040703/http://www.newyorksocialdiary.com/party-pictures/2014/opening-numbers', (2014, 10, 2))]\n"
     ]
    }
   ],
   "source": [
    "import time\n",
    "import re\n",
    "\n",
    "def filter_by_date(links, cutoff=datetime(2014, 12, 1)):\n",
    "    filtered = []\n",
    "    print(len(links))\n",
    "    for link in links:\n",
    "        url, date = link\n",
    "        \n",
    "        # Check if the URL and date exist and date is valid\n",
    "        if date and url and (date[0] < cutoff.year or (date[0] <= cutoff.year and date[1] < cutoff.month) or (date[0] == cutoff.year and date[1] == cutoff.month and date[2] == cutoff.day)):\n",
    "            filtered.append(link)\n",
    "    \n",
    "    return filtered\n",
    "\n",
    "def convert_date(date_str):\n",
    "    try:\n",
    "        input_format = \"%A, %B %d, %Y\"\n",
    "        date_obj = datetime.strptime(date_str, input_format)\n",
    "        return date_obj.year, date_obj.month, date_obj.day\n",
    "    except Exception as e:\n",
    "        print(f\"Error converting date '{date_str}': {e}\")\n",
    "        return None\n",
    "    \n",
    "def get_link_date(link):\n",
    "    try:\n",
    "        # Extract the URL from the title field\n",
    "        titleField = link.find(class_=\"field-content\")\n",
    "        url = titleField.find(\"a\")['href'] if titleField and titleField.find(\"a\") else None\n",
    "        pattern = r'^.*?(http)'\n",
    "        cleaned_url = re.sub(pattern, r'\\1', url) if url else None\n",
    "        \n",
    "        # Extract the date from the created field\n",
    "        dateField = link.find(class_=\"views-field-created\")\n",
    "        date_str = dateField.find(class_=\"field-content\").text if dateField else None\n",
    "        \n",
    "        # Convert the date string to a tuple (year, month, day)\n",
    "        date = convert_date(date_str) if date_str else None\n",
    "        \n",
    "        return (url, date)\n",
    "    except Exception as e:\n",
    "        print(f\"Error processing link: {e}\")\n",
    "        return (None, None)\n",
    "def get_page_links(page_link):\n",
    "    try:\n",
    "        page = requests.get(page_link)\n",
    "        soup = BeautifulSoup(page.text, \"lxml\")\n",
    "        \n",
    "        # Find all rows containing links and dates\n",
    "        rows = soup.find_all(class_=\"views-row\")\n",
    "        \n",
    "        # Store the (url, date) tuples\n",
    "        links_and_dates = [get_link_date(row) for row in rows]\n",
    "        \n",
    "        return links_and_dates\n",
    "    except Exception as e:\n",
    "        print(f\"Error fetching page {page_link}: {e}\")\n",
    "        return []\n",
    "    \n",
    "\n",
    "links = get_page_links(\"https://web.archive.org/web/20150918040703/http://www.newyorksocialdiary.com/party-pictures?page=1\")\n",
    "print(links)"
   ]
  },
  {
   "cell_type": "markdown",
   "metadata": {
    "slideshow": null
   },
   "source": [
    "There should be 50 per page."
   ]
  },
  {
   "cell_type": "code",
   "execution_count": 6,
   "metadata": {
    "slideshow": null
   },
   "outputs": [
    {
     "data": {
      "text/plain": [
       "True"
      ]
     },
     "execution_count": 6,
     "metadata": {},
     "output_type": "execute_result"
    }
   ],
   "source": [
    "len(links) == 50"
   ]
  },
  {
   "cell_type": "markdown",
   "metadata": {
    "slideshow": null
   },
   "source": [
    "Let's take a look at that first link.  Figure out how to extract the URL of the link, as well as the date.  You probably want to use `datetime.strptime`.  See the [format codes for dates](https://docs.python.org/3/library/datetime.html#strftime-and-strptime-behavior) for reference."
   ]
  },
  {
   "cell_type": "code",
   "execution_count": null,
   "metadata": {},
   "outputs": [],
   "source": [
    "\"/web/20150913224145/http://www.newyorksocialdiary.com/party-pictures/2015/grand-finale-of-the-hampton-classic-horse-show\">Grand Finale of the Hampton Classic Horse Show</a>"
   ]
  },
  {
   "cell_type": "code",
   "execution_count": 8,
   "metadata": {
    "slideshow": null
   },
   "outputs": [
    {
     "data": {
      "text/plain": [
       "('/web/20150918040703/http://www.newyorksocialdiary.com/party-pictures/2015/bunny-hop-the-boys-club-old-bags-and-more',\n",
       " (2015, 3, 13))"
      ]
     },
     "execution_count": 8,
     "metadata": {},
     "output_type": "execute_result"
    }
   ],
   "source": [
    "link = links[0]\n",
    "# Check that the title and date match what you see visually.\n",
    "link"
   ]
  },
  {
   "cell_type": "markdown",
   "metadata": {
    "slideshow": null
   },
   "source": [
    "For purposes of code reuse, let's put that logic into a function.  It should take the link element and return the URL and date parsed from it."
   ]
  },
  {
   "cell_type": "code",
   "execution_count": null,
   "metadata": {
    "slideshow": null
   },
   "outputs": [],
   "source": [
    "def get_link_date(el):\n",
    "    ...\n",
    "    return url, date"
   ]
  },
  {
   "cell_type": "markdown",
   "metadata": {
    "slideshow": null
   },
   "source": [
    "You may want to check that it works as you expected.\n",
    "\n",
    "Once that's working, let's write another function to parse all of the links on a page.  Thinking ahead, we can make it take a Requests [Response](https://requests.readthedocs.io/en/master/api/#requests.Response) object and do the BeautifulSoup parsing within it."
   ]
  },
  {
   "cell_type": "code",
   "execution_count": null,
   "metadata": {
    "slideshow": null
   },
   "outputs": [],
   "source": [
    "def get_links(response):\n",
    "    return ... # A list of URL, date pairs"
   ]
  },
  {
   "cell_type": "markdown",
   "metadata": {
    "slideshow": null
   },
   "source": [
    "If we run this on the previous response, we should get 50 pairs."
   ]
  },
  {
   "cell_type": "code",
   "execution_count": null,
   "metadata": {
    "slideshow": null
   },
   "outputs": [],
   "source": [
    "# These should be the same links from earlier\n",
    "len(get_links(page)) == 50"
   ]
  },
  {
   "cell_type": "markdown",
   "metadata": {
    "slideshow": null
   },
   "source": [
    "But we only want parties with dates on or before the first of December, 2014.  Let's write a function to filter our list of dates to those at or before a cutoff.  Using a keyword argument, we can put in a default cutoff, but allow us to test with others."
   ]
  },
  {
   "cell_type": "code",
   "execution_count": null,
   "metadata": {
    "slideshow": null
   },
   "outputs": [],
   "source": [
    "def filter_by_date(links, cutoff=datetime(2014, 12, 1)):\n",
    "    # Return only the elements with date <= cutoff"
   ]
  },
  {
   "cell_type": "markdown",
   "metadata": {
    "slideshow": null
   },
   "source": [
    "With the default cutoff, there should be no valid parties on the first page.  Adjust the cutoff date to check that it is actually working."
   ]
  },
  {
   "cell_type": "code",
   "execution_count": null,
   "metadata": {
    "slideshow": null
   },
   "outputs": [],
   "source": [
    "# Double check the dates are being extracted correctly\n",
    "len(filter_by_date(get_links(page))) == 0"
   ]
  },
  {
   "cell_type": "markdown",
   "metadata": {
    "slideshow": null
   },
   "source": [
    "Now we should be ready to get all of the party URLs.  Click through a few of the index pages to determine how the URL changes.  Figure out a strategy to visit all of them.\n",
    "\n",
    "HTTP requests are generally IO-bound.  This means that most of the time is spent waiting for the remote server to respond.  If you use `requests` directly, you can only wait on one response at a time.  [requests-futures](https://github.com/ross/requests-futures) lets you wait for multiple requests at a time.  You may wish to use this to speed up the downloading process."
   ]
  },
  {
   "cell_type": "code",
   "execution_count": null,
   "metadata": {
    "slideshow": null
   },
   "outputs": [],
   "source": [
    "from requests_futures.sessions import FuturesSession\n",
    "\n",
    "link_list = []\n",
    "# You can use link_list.extend(others) to add the elements of others\n",
    "# to link_list."
   ]
  },
  {
   "cell_type": "markdown",
   "metadata": {
    "slideshow": null
   },
   "source": [
    "In the end, you should have 1193 parties."
   ]
  },
  {
   "cell_type": "code",
   "execution_count": null,
   "metadata": {
    "slideshow": null
   },
   "outputs": [],
   "source": [
    "# Make sure you are using the same /web/stringofdigits/... for each page\n",
    "# This is to prevent the archive from accessing later copies of the same page\n",
    "# If you are off by a just a few, that can be the archive misbehaving\n",
    "len(link_list) == 1193"
   ]
  },
  {
   "cell_type": "markdown",
   "metadata": {
    "slideshow": null
   },
   "source": [
    "In case we need to restart the notebook, we should save this information to a file.  There are many ways you could do this; here's one using `dill`."
   ]
  },
  {
   "cell_type": "code",
   "execution_count": null,
   "metadata": {
    "slideshow": null
   },
   "outputs": [],
   "source": [
    "dill.dump(link_list, open('nysd-links.pkd', 'wb'))"
   ]
  },
  {
   "cell_type": "markdown",
   "metadata": {
    "slideshow": null
   },
   "source": [
    "To restore the list, we can just load it from the file.  When the notebook is restarted, you can skip the code above and just run this command."
   ]
  },
  {
   "cell_type": "code",
   "execution_count": null,
   "metadata": {
    "slideshow": null
   },
   "outputs": [],
   "source": [
    "link_list = dill.load(open('nysd-links.pkd', 'rb'))"
   ]
  },
  {
   "cell_type": "markdown",
   "metadata": {
    "slideshow": null
   },
   "source": [
    "### Question 1: In which month did most of the parties occur? (10 p)\n",
    "### Question 2: What is the overall trend of parties from 2007 to 2014? (10 p)\n",
    "Use visualizations to answer the two questions above. Ensure that you interpret your plots thoroughly."
   ]
  },
  {
   "cell_type": "markdown",
   "metadata": {
    "slideshow": null
   },
   "source": [
    "## Phase Two\n"
   ]
  },
  {
   "cell_type": "markdown",
   "metadata": {
    "slideshow": null
   },
   "source": [
    "In this phase, we concentrate on getting the names out of captions for a given page.  We'll start with [the benefit cocktails and dinner](https://web.archive.org/web/20150913224145/http://www.newyorksocialdiary.com/party-pictures/2015/celebrating-the-neighborhood) for [Lenox Hill Neighborhood House](http://www.lenoxhill.org/), a neighborhood organization for the East Side.\n",
    "\n",
    "Take a look at that page.  Note that some of the text on the page is captions, but others are descriptions of the event.  Determine how to select only the captions."
   ]
  },
  {
   "cell_type": "code",
   "execution_count": null,
   "metadata": {
    "slideshow": null
   },
   "outputs": [],
   "source": [
    "captions = ..."
   ]
  },
  {
   "cell_type": "markdown",
   "metadata": {
    "slideshow": null
   },
   "source": [
    "By our count, there are about 110.  But if you're off by a couple, you're probably okay."
   ]
  },
  {
   "cell_type": "code",
   "execution_count": null,
   "metadata": {
    "slideshow": null
   },
   "outputs": [],
   "source": [
    "# These are for the specific party referenced in the text\n",
    "abs(len(captions) - 110) < 5"
   ]
  },
  {
   "cell_type": "markdown",
   "metadata": {
    "slideshow": null
   },
   "source": [
    "Let's encapsulate this in a function.  As with the links pages, we want to avoid downloading a given page the next time we need to run the notebook.  While we could save the files by hand, as we did before, a checkpoint library like [ediblepickle](https://pypi.python.org/pypi/ediblepickle/1.1.3) can handle this for you.  (Note, though, that you may not want to enable this until you are sure that your function is working.)\n",
    "\n",
    "You should also keep in mind that HTTP requests fail occasionally, for transient reasons.  You should plan how to detect and react to these failures.   The [retrying module](https://pypi.python.org/pypi/retrying) is one way to deal with this."
   ]
  },
  {
   "cell_type": "code",
   "execution_count": null,
   "metadata": {
    "slideshow": null
   },
   "outputs": [],
   "source": [
    "def get_captions(path):\n",
    "    ..."
   ]
  },
  {
   "cell_type": "markdown",
   "metadata": {
    "slideshow": null
   },
   "source": [
    "This should get the same captions as before."
   ]
  },
  {
   "cell_type": "code",
   "execution_count": null,
   "metadata": {
    "slideshow": null
   },
   "outputs": [],
   "source": [
    "# This cell is expecting get_captions to return a list of the captions themselves\n",
    "# Other routes to a solution might need to adjust this cell a bit\n",
    "captions == get_captions(\"/web/20150913224145/http://www.newyorksocialdiary.com/party-pictures/2015/celebrating-the-neighborhood\")"
   ]
  },
  {
   "cell_type": "markdown",
   "metadata": {
    "slideshow": null
   },
   "source": [
    "Now that we have some sample captions, let's start parsing names out of those captions.  There are many ways of going about this, and we leave the details up to you.  Some issues to consider:\n",
    "\n",
    "  1. Some captions are not useful: they contain long narrative texts that explain the event.  Try to find some heuristic rules to separate captions that are a list of names from those that are not.  A few heuristics include:\n",
    "    - look for sentences (which have verbs) and as opposed to lists of nouns. For example, [`nltk` does part of speech tagging](http://www.nltk.org/book/ch05.html) but it is a little slow. There may also be heuristics that accomplish the same thing.\n",
    "    - Similarly, spaCy's [entity recognition](https://spacy.io/docs/usage/entity-recognition) could be useful here.\n",
    "    - Look for commonly repeated threads (e.g. you might end up picking up the photo credits or people such as \"a friend\").\n",
    "    - Long captions are often not lists of people.  The cutoff is subjective, but for grading purposes, *set that cutoff at 250 characters*.\n",
    "  2. You will want to separate the captions based on various forms of punctuation.  Try using `re.split`, which is more sophisticated than `string.split`. **Note**: Use regex exclusively for name parsing.\n",
    "  3. This site is pretty formal and likes to say things like \"Mayor Michael Bloomberg\" after his election but \"Michael Bloomberg\" before his election.  Can you find other titles that are being used?  They should probably be filtered out because they ultimately refer to the same person: \"Michael Bloomberg.\"\n",
    "  4. There is a special case you might find where couples are written as eg. \"John and Mary Smith\". You will need to write some extra logic to make sure this properly parses to two names: \"John Smith\" and \"Mary Smith\".\n",
    "  5. When parsing names from captions, it can help to look at your output frequently and address the problems that you see coming up, iterating until you have a list that looks reasonable. Because we can only asymptotically approach perfect identification and entity matching, we have to stop somewhere.\n",
    "  \n",
    "**Questions worth considering:**\n",
    "  1. Who is Patrick McMullan and should he be included in the results? How would you address this?\n",
    "  2. What else could you do to improve the quality of the graph's information?"
   ]
  },
  {
   "cell_type": "code",
   "execution_count": null,
   "metadata": {
    "slideshow": null
   },
   "outputs": [],
   "source": []
  },
  {
   "cell_type": "markdown",
   "metadata": {
    "slideshow": null
   },
   "source": [
    "Once you feel that your algorithm is working well on these captions, parse all of the captions and extract all the names mentioned.  "
   ]
  },
  {
   "cell_type": "markdown",
   "metadata": {
    "slideshow": null
   },
   "source": [
    "Now, run this sort of test on a few other pages.  You will probably find that other pages have a slightly different HTML structure, as well as new captions that trip up your caption parser.  But don't worry if the parser isn't perfect -- just try to get the easy cases."
   ]
  },
  {
   "cell_type": "markdown",
   "metadata": {
    "slideshow": null
   },
   "source": [
    "Once you are satisfied that your caption scraper and parser are working, run this for all of the pages.  If you haven't implemented some caching of the captions, you probably want to do this first."
   ]
  },
  {
   "cell_type": "code",
   "execution_count": null,
   "metadata": {
    "slideshow": null
   },
   "outputs": [],
   "source": [
    "# Scraping all of the pages could take 10 minutes to an hour"
   ]
  },
  {
   "cell_type": "markdown",
   "metadata": {},
   "source": [
    "## Phase 3: Graph Analysis"
   ]
  },
  {
   "cell_type": "markdown",
   "metadata": {
    "slideshow": null
   },
   "source": [
    "For the remaining analysis, we think of the problem in terms of a\n",
    "[network](http://en.wikipedia.org/wiki/Computer_network) or a\n",
    "[graph](https://en.wikipedia.org/wiki/Graph_%28discrete_mathematics%29).  Any time a pair of people appear in a photo together, that is considered a link.  It is an example of  an **undirected weighted graph**. We recommend using python's [`networkx`](https://networkx.github.io/) library."
   ]
  },
  {
   "cell_type": "code",
   "execution_count": null,
   "metadata": {
    "slideshow": null
   },
   "outputs": [],
   "source": [
    "import itertools  # itertools.combinations may be useful\n",
    "import networkx as nx"
   ]
  },
  {
   "cell_type": "markdown",
   "metadata": {
    "slideshow": null
   },
   "source": [
    "All in all, you should end up with over 100,000 captions and more than 110,000 names, connected in about 200,000 pairs."
   ]
  },
  {
   "cell_type": "code",
   "execution_count": 13,
   "metadata": {},
   "outputs": [],
   "source": [
    "import os\n",
    "import sys\n",
    "import time\n",
    "import itertools\n",
    "import pandas as pd\n",
    "import numpy as np\n",
    "import igraph as ig\n",
    "\n",
    "def get_full_filepath(filename):\n",
    "    \"\"\"\n",
    "    Returns the full file path of the given filename located in the same directory as this script.\n",
    "    \"\"\"\n",
    "    current_dir = os.path.dirname(os.path.abspath(filename))\n",
    "    filepath = os.path.join(current_dir, filename)\n",
    "    return filepath\n",
    "\n",
    "def load_captions(filename):\n",
    "    \"\"\"\n",
    "    Load the captions from a file and return as a list of lists of names.\n",
    "    Adjusted to handle the actual format of 'passed.txt'.\n",
    "    \"\"\"\n",
    "    filepath = get_full_filepath(filename)\n",
    "    captions = []\n",
    "    current_caption = []\n",
    "    with open(filepath, 'r', encoding='utf-8') as file:\n",
    "        for line in file:\n",
    "            line = line.strip()\n",
    "            if line == '':\n",
    "                if current_caption:\n",
    "                    captions.append(current_caption)\n",
    "                    current_caption = []\n",
    "            else:\n",
    "                current_caption.append(line)\n",
    "        # Add the last caption if any\n",
    "        if current_caption:\n",
    "            captions.append(current_caption)\n",
    "    return captions\n",
    "\n",
    "def build_igraph_incrementally(filename):\n",
    "    \"\"\"\n",
    "    Builds an undirected weighted graph using igraph by processing captions incrementally.\n",
    "    \"\"\"\n",
    "    filepath = filename#get_full_filepath(filename)\n",
    "    # Create a mapping from names to indices to avoid storing names multiple times\n",
    "    name_to_index = {}\n",
    "    index_counter = 0\n",
    "    edge_weights = {}\n",
    "    \n",
    "    with open(filepath, 'r', encoding='utf-8') as file:\n",
    "        current_caption = []\n",
    "        for line_num, line in enumerate(file):\n",
    "            line = line.strip()\n",
    "            if line == '':\n",
    "                if len(current_caption) > 1:\n",
    "                    # Process the current caption\n",
    "                    indices = []\n",
    "                    for name in current_caption:\n",
    "                        if name not in name_to_index:\n",
    "                            name_to_index[name] = index_counter\n",
    "                            index_counter += 1\n",
    "                        indices.append(name_to_index[name])\n",
    "                    for u, v in itertools.combinations(indices, 2):\n",
    "                        edge = (min(u, v), max(u, v))\n",
    "                        if edge in edge_weights:\n",
    "                            edge_weights[edge] += 1\n",
    "                        else:\n",
    "                            edge_weights[edge] = 1\n",
    "                elif len(current_caption) == 1:\n",
    "                    # Handle single names\n",
    "                    name = current_caption[0]\n",
    "                    if name not in name_to_index:\n",
    "                        name_to_index[name] = index_counter\n",
    "                        index_counter += 1\n",
    "                current_caption = []\n",
    "            else:\n",
    "                current_caption.append(line)\n",
    "        # Process the last caption\n",
    "        if current_caption:\n",
    "            if len(current_caption) > 1:\n",
    "                indices = []\n",
    "                for name in current_caption:\n",
    "                    if name not in name_to_index:\n",
    "                        name_to_index[name] = index_counter\n",
    "                        index_counter += 1\n",
    "                    indices.append(name_to_index[name])\n",
    "                for u, v in itertools.combinations(indices, 2):\n",
    "                    edge = (min(u, v), max(u, v))\n",
    "                    if edge in edge_weights:\n",
    "                        edge_weights[edge] += 1\n",
    "                    else:\n",
    "                        edge_weights[edge] = 1\n",
    "            elif len(current_caption) == 1:\n",
    "                # Handle single names\n",
    "                name = current_caption[0]\n",
    "                if name not in name_to_index:\n",
    "                    name_to_index[name] = index_counter\n",
    "                    index_counter += 1\n",
    "    # Build the graph\n",
    "    num_nodes = index_counter\n",
    "    edges = list(edge_weights.keys())\n",
    "    weights = list(edge_weights.values())\n",
    "    G = ig.Graph()\n",
    "    G.add_vertices(num_nodes)\n",
    "    if edges:\n",
    "        G.add_edges(edges)\n",
    "        G.es['weight'] = weights\n",
    "    else:\n",
    "        G.es['weight'] = []\n",
    "    # Assign names to vertices\n",
    "    index_to_name = {index: name for name, index in name_to_index.items()}\n",
    "    G.vs['name'] = [index_to_name[i] for i in range(num_nodes)]\n",
    "    return G\n",
    "\n",
    "def compute_graph_statistics(G):\n",
    "    \"\"\"\n",
    "    Computes graph statistics: number of nodes, number of edges, diameter, average clustering coefficient.\n",
    "    \"\"\"\n",
    "    num_nodes = G.vcount()\n",
    "    num_edges = G.ecount()\n",
    "    # Diameter calculation\n",
    "    if G.is_connected():\n",
    "        diameter = G.diameter()\n",
    "    else:\n",
    "        # Use the largest connected component\n",
    "        largest_cc = G.clusters().giant()\n",
    "        diameter = largest_cc.diameter()\n",
    "    # Average clustering coefficient\n",
    "    avg_clustering_coeff = G.transitivity_undirected()\n",
    "    graph_stats = {\n",
    "        \"num_nodes\": num_nodes,\n",
    "        \"num_edges\": num_edges,\n",
    "        \"diameter\": diameter,\n",
    "        \"avg_clustering_coeff\": avg_clustering_coeff\n",
    "    }\n",
    "    return graph_stats\n",
    "\n",
    "def get_most_photogenic(G, top_n=100):\n",
    "    \"\"\"\n",
    "    Returns the top_n people with the highest weighted degree (most photogenic).\n",
    "    \"\"\"\n",
    "    degrees = G.strength(weights='weight')\n",
    "    names = G.vs['name']\n",
    "    weighted_degree = list(zip(names, degrees))\n",
    "    top_photogenic = sorted(weighted_degree, key=lambda x: x[1], reverse=True)[:top_n]\n",
    "    return top_photogenic\n",
    "\n",
    "def compute_centrality_measures(G, top_n=10):\n",
    "    \"\"\"\n",
    "    Computes various centrality measures and returns the top_n individuals for each measure.\n",
    "    \"\"\"\n",
    "    # Ensure the graph is connected or use the largest connected component\n",
    "    if not G.is_connected():\n",
    "        G = G.clusters().giant()\n",
    "    \n",
    "    names = G.vs['name']\n",
    "    \n",
    "    # Eccentricity centrality\n",
    "    eccentricity = G.eccentricity()\n",
    "    top_eccentricity = sorted(zip(names, eccentricity), key=lambda x: x[1])[:top_n]  # Lower is better\n",
    "    \n",
    "    # Closeness centrality\n",
    "    closeness = G.closeness(weights='weight')\n",
    "    top_closeness = sorted(zip(names, closeness), key=lambda x: x[1], reverse=True)[:top_n]\n",
    "    \n",
    "    # Betweenness centrality\n",
    "    betweenness = G.betweenness(weights='weight')\n",
    "    top_betweenness = sorted(zip(names, betweenness), key=lambda x: x[1], reverse=True)[:top_n]\n",
    "    \n",
    "    # Eigenvector centrality (prestige)\n",
    "    eigenvector = G.eigenvector_centrality(weights='weight')\n",
    "    top_eigenvector = sorted(zip(names, eigenvector), key=lambda x: x[1], reverse=True)[:top_n]\n",
    "    \n",
    "    # PageRank\n",
    "    pagerank = G.pagerank(damping=0.85, weights='weight')\n",
    "    top_pagerank = sorted(zip(names, pagerank), key=lambda x: x[1], reverse=True)[:top_n]\n",
    "    \n",
    "    centrality_measures = {\n",
    "        'eccentricity': top_eccentricity,\n",
    "        'closeness': top_closeness,\n",
    "        'betweenness': top_betweenness,\n",
    "        'eigenvector': top_eigenvector,\n",
    "        'pagerank': top_pagerank\n",
    "    }\n",
    "    return centrality_measures\n",
    "\n",
    "def get_top_edges(G, top_n=100):\n",
    "    \"\"\"\n",
    "    Returns the top_n edges with the highest weights.\n",
    "    \"\"\"\n",
    "    edges = G.get_edgelist()\n",
    "    weights = G.es['weight']\n",
    "    edge_list = [(G.vs[u]['name'], G.vs[v]['name'], w) for (u, v), w in zip(edges, weights)]\n",
    "    top_edges = sorted(edge_list, key=lambda x: x[2], reverse=True)[:top_n]\n",
    "    return top_edges"
   ]
  },
  {
   "cell_type": "markdown",
   "metadata": {
    "slideshow": null
   },
   "source": [
    "## Question 3: Graph EDA (20 p)\n"
   ]
  },
  {
   "cell_type": "code",
   "execution_count": 5,
   "metadata": {},
   "outputs": [],
   "source": [
    "import networkx as nx\n",
    "\n",
    "G = nx.Graph()\n",
    "edge_weights = {}\n",
    "\n",
    "# Open and process the file line by line\n",
    "with open('code/passed.txt', 'r') as f:\n",
    "    for line in f:\n",
    "        names = [name.strip() for name in line.split(',') if name.strip()]  # Split names and strip spaces\n",
    "        \n",
    "        # Add edges between every pair of names in the same line\n",
    "        for i in range(len(names)):\n",
    "            for j in range(i + 1, len(names)):\n",
    "                edge = (names[i], names[j])\n",
    "                \n",
    "                # Update the weight for the edge\n",
    "                if edge in edge_weights:\n",
    "                    edge_weights[edge] += 1\n",
    "                else:\n",
    "                    edge_weights[edge] = 1\n",
    "\n",
    "# Add edges to the graph with their corresponding weights\n",
    "for (u, v), weight in edge_weights.items():\n",
    "    G.add_edge(u, v, weight=weight)\n"
   ]
  },
  {
   "cell_type": "code",
   "execution_count": 6,
   "metadata": {},
   "outputs": [],
   "source": [
    "import matplotlib.pyplot as plt\n",
    "def visualize_graph(G):\n",
    "    \"\"\"\n",
    "    Visualizes the graph using a spring layout.\n",
    "    For large graphs, it visualizes a subgraph of up to 100 nodes.\n",
    "    \"\"\"\n",
    "    # Visualize a subgraph if the graph is too large\n",
    "    subgraph = G\n",
    "    if G.number_of_nodes() > 100:\n",
    "        # Largest connected component\n",
    "        largest_cc = max(nx.connected_components(G), key=len)\n",
    "        subgraph = G.subgraph(largest_cc)\n",
    "        # Limit to 100 nodes\n",
    "        if subgraph.number_of_nodes() > 100:\n",
    "            subgraph = subgraph.subgraph(list(subgraph.nodes())[:100])\n",
    "\n",
    "    pos = nx.spring_layout(subgraph)\n",
    "\n",
    "    # Draw nodes and edges\n",
    "    nx.draw_networkx_nodes(subgraph, pos, node_size=300, node_color='lightblue')\n",
    "    nx.draw_networkx_edges(subgraph, pos, width=1.0, alpha=0.5, edge_color='gray')\n",
    "    nx.draw_networkx_labels(subgraph, pos, font_size=8)\n",
    "\n",
    "    # Add edge weights as labels\n",
    "    edge_labels = {(u, v): d['weight'] for u, v, d in subgraph.edges(data=True)}\n",
    "    nx.draw_networkx_edge_labels(subgraph, pos, edge_labels=edge_labels, font_size=6)\n",
    "\n",
    "    plt.title(\"Graph Visualization\")\n",
    "    plt.axis('off')\n",
    "    plt.show()"
   ]
  },
  {
   "cell_type": "code",
   "execution_count": 7,
   "metadata": {},
   "outputs": [
    {
     "data": {
      "image/png": "[encoded data removed]",
      "text/plain": [
       "<Figure size 640x480 with 1 Axes>"
      ]
     },
     "metadata": {},
     "output_type": "display_data"
    }
   ],
   "source": [
    "visualize_graph(G)"
   ]
  },
  {
   "cell_type": "code",
   "execution_count": 10,
   "metadata": {},
   "outputs": [
    {
     "name": "stdout",
     "output_type": "stream",
     "text": [
      "86129\n",
      "164136\n",
      "0.49049404440378813\n"
     ]
    }
   ],
   "source": [
    "num_nodes = G.number_of_nodes()\n",
    "num_edges = G.number_of_edges()\n",
    "avg_clustering_coeff = nx.average_clustering(G)\n",
    "\n",
    "print(num_nodes)\n",
    "print(num_edges)\n",
    "print(avg_clustering_coeff)"
   ]
  },
  {
   "cell_type": "code",
   "execution_count": null,
   "metadata": {},
   "outputs": [],
   "source": [
    "# Diameter calculation (only for connected components)\n",
    "if nx.is_connected(G):\n",
    "    diameter = nx.diameter(G)\n",
    "else:\n",
    "    # Use the largest connected component\n",
    "    largest_cc = max(nx.connected_components(G), key=len)\n",
    "    subgraph = G.subgraph(largest_cc)\n",
    "    diameter = nx.diameter(subgraph)"
   ]
  },
  {
   "cell_type": "markdown",
   "metadata": {},
   "source": [
    "- Use parsed names to create the undirected weighted network and visualize it (5 p)\n",
    "- Report the number of nodes and edges (5 p)\n",
    "Number of nodes is 86129 and edges 164136\n",
    "- What is the diameter of this graph? (5 p)\n",
    "Calculated Diameter is 21 for the largest connected subgraph\n",
    "- What is the average clustering coeff of the graph? How you interpret this number? (5 p)\n",
    "0.49049404440378813 is the average clustering coeff. As we know that clustering coefficient is between 0 and 1. With 0 meaning no clustering at all and 1 being a very good cluster with every neightbor of the node being interconnected. 0.49 represents that around 49% of valid connections of node's neightbors are real connections of the graph."
   ]
  },
  {
   "cell_type": "markdown",
   "metadata": {},
   "source": []
  },
  {
   "cell_type": "markdown",
   "metadata": {},
   "source": [
    "## Question 4: Graph properties (20 p)"
   ]
  },
  {
   "cell_type": "markdown",
   "metadata": {},
   "source": [
    "What real-world graph properties does this graph exhibit? Please show your work and interpret your answer. Does the result make sense given the nature of the graph?"
   ]
  },
  {
   "cell_type": "markdown",
   "metadata": {},
   "source": [
    "## Question 4: Who are the most photogenic persons? (10 p)"
   ]
  },
  {
   "cell_type": "markdown",
   "metadata": {
    "slideshow": null
   },
   "source": [
    "The simplest question to ask is \"who is the most popular\"?  The easiest way to answer this question is to look at how many connections everyone has.  Return the top 100 people and their degree.  Remember that if an edge of the graph has weight 2, it counts for 2 in the degree.\n",
    "\n",
    "**Checkpoint:** Some aggregate stats on the solution\n",
    "\n",
    "    \"count\": 100.0\n",
    "    \"mean\": 189.92\n",
    "    \"std\": 87.8053034454\n",
    "    \"min\": 124.0\n",
    "    \"25%\": 138.0\n",
    "    \"50%\": 157.0\n",
    "    \"75%\": 195.0\n",
    "    \"max\": 666.0"
   ]
  },
  {
   "cell_type": "code",
   "execution_count": 13,
   "metadata": {},
   "outputs": [],
   "source": [
    "def get_most_photogenic(G, top_n=100):\n",
    "    \"\"\"\n",
    "    Returns the top_n people with the highest weighted degree (most photogenic).\n",
    "    \"\"\"\n",
    "    # Compute weighted degrees\n",
    "    weighted_degree = dict(G.degree(weight='weight'))\n",
    "\n",
    "    # Sort by weighted degree in descending order and take the top N\n",
    "    top_photogenic = sorted(weighted_degree.items(), key=lambda x: x[1], reverse=True)[:top_n]\n",
    "    \n",
    "    return top_photogenic"
   ]
  },
  {
   "cell_type": "code",
   "execution_count": 14,
   "metadata": {
    "slideshow": null
   },
   "outputs": [
    {
     "ename": "NameError",
     "evalue": "name 'pd' is not defined",
     "output_type": "error",
     "traceback": [
      "\u001b[0;31m---------------------------------------------------------------------------\u001b[0m",
      "\u001b[0;31mNameError\u001b[0m                                 Traceback (most recent call last)",
      "Cell \u001b[0;32mIn[14], line 3\u001b[0m\n\u001b[1;32m      1\u001b[0m top_photogenic \u001b[38;5;241m=\u001b[39m get_most_photogenic(G)\n\u001b[1;32m      2\u001b[0m \u001b[38;5;66;03m# Display the top 100 people and their degrees\u001b[39;00m\n\u001b[0;32m----> 3\u001b[0m df_photogenic \u001b[38;5;241m=\u001b[39m \u001b[43mpd\u001b[49m\u001b[38;5;241m.\u001b[39mDataFrame(top_photogenic, columns\u001b[38;5;241m=\u001b[39m[\u001b[38;5;124m'\u001b[39m\u001b[38;5;124mPerson\u001b[39m\u001b[38;5;124m'\u001b[39m, \u001b[38;5;124m'\u001b[39m\u001b[38;5;124mWeighted Degree\u001b[39m\u001b[38;5;124m'\u001b[39m])\n\u001b[1;32m      4\u001b[0m \u001b[38;5;28mprint\u001b[39m(\u001b[38;5;124m\"\u001b[39m\u001b[38;5;124mTop 100 Most Photogenic Persons:\u001b[39m\u001b[38;5;124m\"\u001b[39m)\n\u001b[1;32m      5\u001b[0m \u001b[38;5;28mprint\u001b[39m(df_photogenic\u001b[38;5;241m.\u001b[39mto_string(index\u001b[38;5;241m=\u001b[39m\u001b[38;5;28;01mFalse\u001b[39;00m))\n",
      "\u001b[0;31mNameError\u001b[0m: name 'pd' is not defined"
     ]
    }
   ],
   "source": [
    "import pandas as pd\n",
    "top_photogenic = get_most_photogenic(G)\n",
    "# Display the top 100 people and their degrees\n",
    "df_photogenic = pd.DataFrame(top_photogenic, columns=['Person', 'Weighted Degree'])\n",
    "print(\"Top 100 Most Photogenic Persons:\")\n",
    "print(df_photogenic.to_string(index=False))\n",
    "    "
   ]
  },
  {
   "cell_type": "code",
   "execution_count": null,
   "metadata": {},
   "outputs": [],
   "source": [
    "# Compute aggregate statistics for the checkpoint\n",
    "stats_photogenic = df_photogenic['Weighted Degree'].describe()\n",
    "print(\"\\nAggregate statistics for the top 100 most photogenic persons:\")\n",
    "print(stats_photogenic)"
   ]
  },
  {
   "cell_type": "markdown",
   "metadata": {
    "slideshow": null
   },
   "source": [
    "## Question 5: Centrality analysis (20 p)\n"
   ]
  },
  {
   "cell_type": "markdown",
   "metadata": {
    "slideshow": null
   },
   "source": [
    "Use eccentricity centrality, closeness centrality, betweenness centrality, prestige, and PageRank to identify the top 10 individuals with the highest centrality for each measure. How do you interpret the results?\n",
    "\n",
    "Use 0.85 as the damping parameter for page rank, so that there is a 15% chance of jumping to another vertex at random.\n",
    "\n",
    "**Checkpoint:** Some aggregate stats on the solution for pagerank\n",
    "\n",
    "    \"count\": 100.0\n",
    "    \"mean\": 0.0001841088\n",
    "    \"std\": 0.0000758068\n",
    "    \"min\": 0.0001238355\n",
    "    \"25%\": 0.0001415028\n",
    "    \"50%\": 0.0001616183\n",
    "    \"75%\": 0.0001972663\n",
    "    \"max\": 0.0006085816"
   ]
  },
  {
   "cell_type": "code",
   "execution_count": null,
   "metadata": {},
   "outputs": [],
   "source": []
  },
  {
   "cell_type": "markdown",
   "metadata": {
    "slideshow": null
   },
   "source": [
    "## Question 6: best_friends (10 p)\n"
   ]
  },
  {
   "cell_type": "markdown",
   "metadata": {
    "slideshow": null
   },
   "source": [
    "Another interesting question is who tend to co-occur with each other.  Give us the 100 edges with the highest weights.\n",
    "\n",
    "Google these people and see what their connection is.  Can we use this to detect instances of infidelity?\n",
    "\n",
    "**Checkpoint:** Some aggregate stats on the solution\n",
    "\n",
    "    \"count\": 100.0\n",
    "    \"mean\": 25.84\n",
    "    \"std\": 16.0395470855\n",
    "    \"min\": 14.0\n",
    "    \"25%\": 16.0\n",
    "    \"50%\": 19.0\n",
    "    \"75%\": 29.25\n",
    "    \"max\": 109.0"
   ]
  },
  {
   "cell_type": "code",
   "execution_count": 32,
   "metadata": {
    "slideshow": null
   },
   "outputs": [],
   "source": [
    "import pandas as pd\n",
    "\n",
    "top_edges = get_top_edges(G)\n",
    "df_edges = pd.DataFrame(top_edges, columns=['Person1', 'Person2', 'Weight'])\n",
    "print(\"Top 100 Edges with Highest Weights:\")\n",
    "print(df_edges.to_string(index=False))\n",
    "# Compute aggregate statistics for the checkpoint\n",
    "stats_edges = df_edges['Weight'].describe()\n",
    "print(\"\\nAggregate statistics for the top 100 edges:\")\n",
    "print(stats_edges)"
   ]
  },
  {
   "cell_type": "code",
   "execution_count": null,
   "metadata": {},
   "outputs": [],
   "source": []
  }
 ],
 "metadata": {
  "kernelspec": {
   "display_name": "Python 3 (ipykernel)",
   "language": "python",
   "name": "python3"
  },
  "language_info": {
   "codemirror_mode": {
    "name": "ipython",
    "version": 3
   },
   "file_extension": ".py",
   "mimetype": "text/x-python",
   "name": "python",
   "nbconvert_exporter": "python",
   "pygments_lexer": "ipython3",
   "version": "3.12.3"
  },
  "nbclean": true
 },
 "nbformat": 4,
 "nbformat_minor": 4
}
